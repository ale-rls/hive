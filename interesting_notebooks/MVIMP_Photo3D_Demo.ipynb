{
  "nbformat": 4,
  "nbformat_minor": 0,
  "metadata": {
    "colab": {
      "name": "MVIMP-Photo3D-Demo.ipynb",
      "private_outputs": true,
      "provenance": [],
      "collapsed_sections": []
    },
    "kernelspec": {
      "name": "python3",
      "display_name": "Python 3"
    },
    "accelerator": "GPU"
  },
  "cells": [
    {
      "cell_type": "markdown",
      "metadata": {
        "id": "fJnMZEPUEhmo"
      },
      "source": [
        "### STAGE ONE: Prepare dependencies."
      ]
    },
    {
      "cell_type": "code",
      "metadata": {
        "id": "UHDdbXBD8Kvj",
        "cellView": "both"
      },
      "source": [
        "!ls -l /usr/local/cuda\n",
        "!git clone https://github.com/CyFeng16/MVIMP.git\n",
        "\n",
        "import os\n",
        "os.chdir('/content/MVIMP')\n",
        "!python3 preparation.py -f photo3d"
      ],
      "execution_count": null,
      "outputs": []
    },
    {
      "cell_type": "markdown",
      "metadata": {
        "id": "3jSYV2A3L0Y0"
      },
      "source": [
        "### STAGE TWO: **Upload** your pictures in `MVIMP/Data/Input`.<br>Processed outputs will be in `MVIMP/Data/Output`."
      ]
    },
    {
      "cell_type": "markdown",
      "metadata": {
        "id": "XQ8eK4JlFBzQ"
      },
      "source": [
        "### STAGE THREE: One-line commmand to embrace Photo3D(converting a single RGB-D input image into a 3D photo).\n",
        "\n",
        "| params            | abbr. | Default | Description                                              |\n",
        "|-------------------|-------|---------|----------------------------------------------------------|\n",
        "| --fps             | -f    | 40      | The FPS of output video.                                 |\n",
        "| --frames          | -n    | 240     | The number of frames of output video.                    |\n",
        "| --longer_side_len | -l    | 960     | The longer side of output video(either height or width). |"
      ]
    },
    {
      "cell_type": "code",
      "metadata": {
        "cellView": "both",
        "id": "KbWn1P6vMbAa"
      },
      "source": [
        "!python3 inference_photo3d.py -f 30 -n 240 -l 960"
      ],
      "execution_count": null,
      "outputs": []
    }
  ]
}