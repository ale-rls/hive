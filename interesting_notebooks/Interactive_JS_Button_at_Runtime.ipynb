{
  "nbformat": 4,
  "nbformat_minor": 0,
  "metadata": {
    "colab": {
      "name": "Interactive JS Button at Runtime",
      "provenance": [],
      "collapsed_sections": [],
      "include_colab_link": true
    },
    "kernelspec": {
      "name": "python3",
      "display_name": "Python 3"
    },
    "language_info": {
      "name": "python"
    }
  },
  "cells": [
    {
      "cell_type": "markdown",
      "metadata": {
        "id": "view-in-github",
        "colab_type": "text"
      },
      "source": [
        "<a href=\"https://colab.research.google.com/github/pollinations/hive/blob/main/interesting_notebooks/Interactive_JS_Button_at_Runtime.ipynb\" target=\"_parent\"><img src=\"https://colab.research.google.com/assets/colab-badge.svg\" alt=\"Open In Colab\"/></a>"
      ]
    },
    {
      "cell_type": "markdown",
      "metadata": {
        "id": "LXCD6z7JF2jU"
      },
      "source": [
        "# Method to inject data into a running python loop using a listen server subprocess\n",
        "by [@remi_durant](https://twitter/remi_durant)\n"
      ]
    },
    {
      "cell_type": "code",
      "metadata": {
        "colab": {
          "base_uri": "https://localhost:8080/",
          "height": 38
        },
        "id": "QAdwaGkA_vrR",
        "cellView": "form",
        "outputId": "831aa90f-eeca-4b5f-8ba5-cf57ebbcc5d5"
      },
      "source": [
        "#@title HTML/JS Based Remote Control - This needs to be run first!\n",
        "#@markdown Once the server is running, any other cells that were run during this session can send data to it, allowing for remote control! This cell has no python in it, but it still needs to be run fresh so that Colab can proxy the request to localhost properly.\n",
        "\n",
        "%%html\n",
        "<button type=\"button\" onclick=\"tell('hello')\">Ping Server</button>\n",
        "<button type=\"button\" onclick=\"tell('stop')\">Stop Server</button>\n",
        "<script>\n",
        "function tell(data)\n",
        "{\n",
        "    var xhr = new XMLHttpRequest();\n",
        "    xhr.open(\"PUT\", \"http://localhost:42\", true);\n",
        "    xhr.setRequestHeader(\"Content-Type\", \"application/json\");\n",
        "    xhr.onreadystatechange = function () {\n",
        "    if (xhr.readyState === 4) {\n",
        "        console.log(xhr.status);\n",
        "        console.log(xhr.responseText);\n",
        "    }};\n",
        "    if ( typeof(data) !== 'object' || Array.isArray(data) )\n",
        "        data = { 'msg': data }                \n",
        "    xhr.send(JSON.stringify(data));\n",
        "}\n",
        "</script>"
      ],
      "execution_count": null,
      "outputs": [
        {
          "output_type": "display_data",
          "data": {
            "text/html": [
              "<button type=\"button\" onclick=\"tell('hello')\">Ping Server</button>\n",
              "<button type=\"button\" onclick=\"tell('stop')\">Stop Server</button>\n",
              "<script>\n",
              "function tell(data)\n",
              "{\n",
              "    var xhr = new XMLHttpRequest();\n",
              "    xhr.open(\"PUT\", \"http://localhost:42\", true);\n",
              "    xhr.setRequestHeader(\"Content-Type\", \"application/json\");\n",
              "    xhr.onreadystatechange = function () {\n",
              "    if (xhr.readyState === 4) {\n",
              "        console.log(xhr.status);\n",
              "        console.log(xhr.responseText);\n",
              "    }};\n",
              "    if ( typeof(data) !== 'object' || Array.isArray(data) )\n",
              "        data = { 'msg': data }                \n",
              "    xhr.send(JSON.stringify(data));\n",
              "}\n",
              "</script>"
            ],
            "text/plain": [
              "<IPython.core.display.HTML object>"
            ]
          },
          "metadata": {}
        }
      ]
    },
    {
      "cell_type": "code",
      "metadata": {
        "colab": {
          "base_uri": "https://localhost:8080/",
          "height": 125
        },
        "id": "Zoga2vIA1Ts_",
        "cellView": "form",
        "outputId": "8225dfc6-075b-4228-a87d-f8956f5d99a9"
      },
      "source": [
        "#@title Processing Loop and Listen Server (for client data injection)\n",
        "#@markdown This launches a listen server in a subprocess which can then be accessed by the client javascript through http requests! This allows for input from the client while a cell is actively running, for example allowing to change behavior in the middle of an optimization loop!\n",
        "\n",
        "from IPython import display \n",
        "\n",
        "from multiprocessing import Process, Pipe\n",
        "\n",
        "import socket\n",
        "from six.moves import socketserver, SimpleHTTPServer\n",
        "\n",
        "import json\n",
        "\n",
        "class V6Server(socketserver.TCPServer):\n",
        "    address_family = socket.AF_INET6\n",
        "    allow_reuse_address = True \n",
        "    logging = False\n",
        "\n",
        "class Handler(SimpleHTTPServer.SimpleHTTPRequestHandler):\n",
        "\n",
        "    def do_PUT(self):        \n",
        "        self.send_response(200)\n",
        "        self.send_header('Content-type', 'text/html')\n",
        "        self.end_headers()\n",
        "        \n",
        "        data = self.rfile.read(int(self.headers['Content-Length']))\n",
        "        data = json.loads(data)\n",
        "        \n",
        "        self.server.pipe.send(data)\n",
        "\n",
        "        if data.get('msg') == 'stop':\n",
        "            raise KeyboardInterrupt\n",
        "\n",
        "    def log_message(self, format, *args):\n",
        "        if self.server.logging:\n",
        "            SimpleHTTPServer.SimpleHTTPRequestHandler.log_message(self, format, *args)\n",
        "\n",
        "def js_listener(pipe):\n",
        "    httpd = V6Server(('::', port), Handler)\n",
        "    httpd.pipe = pipe\n",
        "    try:\n",
        "        httpd.serve_forever()\n",
        "    except KeyboardInterrupt:\n",
        "        pass\n",
        "    httpd.server_close()\n",
        "\n",
        "if __name__ == '__main__':\n",
        "  try:\n",
        "      \n",
        "      port = 42 # portpicker.pick_unused_port()\n",
        "      js = '''\n",
        "              function tell(data)\n",
        "              {\n",
        "                  var xhr = new XMLHttpRequest();\n",
        "                  xhr.open(\"PUT\", \"http://localhost:''' + str(port) + '''\", true);\n",
        "                  xhr.setRequestHeader(\"Content-Type\", \"application/json\");\n",
        "                  xhr.onreadystatechange = function () {\n",
        "                  if (xhr.readyState === 4) {\n",
        "                      console.log(xhr.status);\n",
        "                      console.log(xhr.responseText);\n",
        "                  }};\n",
        "                  if ( typeof(data) !== 'object' || Array.isArray(data) )\n",
        "                      data = { 'msg': data }                \n",
        "                  xhr.send(JSON.stringify(data));\n",
        "              }\n",
        "          '''\n",
        "          \n",
        "      display.display( display.Javascript(js))    \n",
        "      display.display( display.HTML( '<button type=\"button\" onclick=\"tell(\\'hi\\')\">Test Server</button>' ))\n",
        "\n",
        "      pipe, child_pipe = Pipe()\n",
        "      p = Process(target=js_listener, args=(child_pipe,))\n",
        "      p.start()\n",
        "      \n",
        "      print('Waiting for Input')\n",
        "      while True:\n",
        "          if pipe.poll():\n",
        "              r = pipe.recv()\n",
        "              print(f'Received Message: {r}')\n",
        "              if r.get('msg') == 'stop':\n",
        "                break\n",
        "\n",
        "  except KeyboardInterrupt:\n",
        "    pass"
      ],
      "execution_count": null,
      "outputs": [
        {
          "output_type": "display_data",
          "data": {
            "application/javascript": [
              "\n",
              "              function tell(data)\n",
              "              {\n",
              "                  var xhr = new XMLHttpRequest();\n",
              "                  xhr.open(\"PUT\", \"http://localhost:42\", true);\n",
              "                  xhr.setRequestHeader(\"Content-Type\", \"application/json\");\n",
              "                  xhr.onreadystatechange = function () {\n",
              "                  if (xhr.readyState === 4) {\n",
              "                      console.log(xhr.status);\n",
              "                      console.log(xhr.responseText);\n",
              "                  }};\n",
              "                  if ( typeof(data) !== 'object' || Array.isArray(data) )\n",
              "                      data = { 'msg': data }                \n",
              "                  xhr.send(JSON.stringify(data));\n",
              "              }\n",
              "          "
            ],
            "text/plain": [
              "<IPython.core.display.Javascript object>"
            ]
          },
          "metadata": {}
        },
        {
          "output_type": "display_data",
          "data": {
            "text/html": [
              "<button type=\"button\" onclick=\"tell('hi')\">Test Server</button>"
            ],
            "text/plain": [
              "<IPython.core.display.HTML object>"
            ]
          },
          "metadata": {}
        },
        {
          "output_type": "stream",
          "name": "stdout",
          "text": [
            "Waiting for Input\n",
            "Received Message: {'msg': 'hi'}\n",
            "Received Message: {'msg': 'hello'}\n",
            "Received Message: {'msg': 'hello'}\n",
            "Received Message: {'msg': 'stop'}\n"
          ]
        }
      ]
    }
  ]
}