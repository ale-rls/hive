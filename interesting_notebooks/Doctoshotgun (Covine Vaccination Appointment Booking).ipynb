{
  "nbformat": 4,
  "nbformat_minor": 0,
  "metadata": {
    "colab": {
      "name": "Making the most of your colab subscription",
      "provenance": [],
      "collapsed_sections": []
    },
    "kernelspec": {
      "display_name": "Python 3",
      "name": "python3"
    }
  },
  "cells": [
    {
      "cell_type": "markdown",
      "metadata": {
        "id": "u1XPydEUv767"
      },
      "source": [
        "DOCTOSHOTGUN\n",
        "\n",
        "This script lets you automatically book a vaccine slot on Doctolib in France and in Germany in the next seven days."
      ]
    },
    {
      "cell_type": "code",
      "metadata": {
        "cellView": "form",
        "id": "HrBdjpF-sll2"
      },
      "source": [
        "vaccine = 'pfizer'  #@param ['pfizer', 'moderna', 'astrazeneca', 'janssen']\n",
        "dose = 'first'  #@param ['first', 'second', 'third (booster)']\n",
        "start_date = '03/12/2021'  #@param {type: \"string\"}\n",
        "2fa_code = '' #@param {type: \"string\"}\n",
        "city = 'berlin' #@param {type: \"string\"}\n",
        "country = 'de'  #@param ['de', 'fr']\n",
        "doctolib_email = ''  #@param {type: \"string\"}\n",
        "doctolib_password = ''  #@param {type: \"string\"}\n"
      ],
      "execution_count": null,
      "outputs": []
    },
    {
      "cell_type": "code",
      "metadata": {
        "id": "Hdo9MVsdbPGT",
        "outputId": "ed2c93aa-b172-4d3f-ce8c-68eab6c6b407",
        "colab": {
          "base_uri": "https://localhost:8080/"
        }
      },
      "source": [
        "!git clone https://github.com/rbignon/doctoshotgun.git\n",
        "%cd doctoshotgun\n",
        "\n",
        "dose_mapping = {\n",
        "    \"first\":\"\",\n",
        "    \"second\":\"--only-second\",\n",
        "    \"third (booster)\":\"--only-third\"\n",
        "}\n",
        "\n",
        "dose_flag = dose_mapping[dose]\n",
        "\n",
        "!python3 ./doctoshotgun.py {country} {berlin} {doctolib_email} {doctolib_password} --only-third\n"
      ],
      "execution_count": 2,
      "outputs": [
        {
          "output_type": "stream",
          "name": "stdout",
          "text": [
            "fatal: destination path 'doctoshotgun' already exists and is not an empty directory.\n",
            "/content/doctoshotgun\n",
            "Requesting 2fa code...\n",
            "Enter auth code: 549914\n",
            "Starting to look for vaccine slots for \u001b[33mmatthias\u001b[0m \u001b[33mKanik\u001b[0m between \u001b[33m2021-12-02\u001b[0m and \u001b[33m2021-12-09\u001b[0m...\n",
            "Vaccines: \u001b[33mAuffrischung.*Pfizer|Pfizer.*Auffrischung|Dritt.*Pfizer|Booster.*Pfizer, Auffrischung.*Moderna|Moderna.*Auffrischung|Dritt.*Moderna|Booster.*Moderna\u001b[0m\n",
            "Country: \u001b[33mde\u001b[0m \n",
            "This may take a few minutes/hours, be patient!\n",
            "[2021-12-02 19:38:37]\n",
            "\n",
            "Center Praxis Dr. Darouich (Berlin):\n",
            "  Vaccine \u001b[33mAuffrischung.*Pfizer|Pfizer.*Auffrischung|Dritt.*Pfizer|Booster.*Pfizer\u001b[0m... \u001b[31mSlot not found :(\u001b[0m\n",
            "  Vaccine \u001b[33mAuffrischung.*Moderna|Moderna.*Auffrischung|Dritt.*Moderna|Booster.*Moderna\u001b[0m... \u001b[31mSlot not found :(\u001b[0m\n",
            "\n",
            "\n",
            "Center Corona Impfzentren - Berlin (Berlin):\n",
            "– \u001b[33mMesse Berlin/ Halle 21\u001b[0m...\n",
            "  Vaccine \u001b[33mAuffrischung.*Pfizer|Pfizer.*Auffrischung|Dritt.*Pfizer|Booster.*Pfizer\u001b[0m... \u001b[32mfound!\u001b[0m\n",
            "  ├╴ Best slot found: \u001b[33mFri Dec  3 11:15:00 2021\u001b[0m\n",
            "  ├╴ Booking for matthias Kanik...\n",
            "  └╴ Booking status: \u001b[33mTrue\u001b[0m\n",
            "\n",
            "💉 \u001b[1m\u001b[32mBooked!\u001b[0m Congratulations.\n",
            "\u001b[0m"
          ]
        }
      ]
    },
    {
      "cell_type": "code",
      "metadata": {
        "id": "I6ccLzM_bTB1"
      },
      "source": [
        ""
      ],
      "execution_count": null,
      "outputs": []
    },
    {
      "cell_type": "markdown",
      "metadata": {
        "id": "QMMqmdiYMkvi"
      },
      "source": [
        "## Faster GPUs\n",
        "\n",
        "With Colab Pro, you have priority access to our fastest GPUs, and with Pro+ even more so. For example, you may get a T4 or P100 GPU at times when most users of standard Colab receive a slower K80 GPU. You can see what GPU you've been assigned at any time by executing the following cell.\n",
        "\n",
        "If the execution result of running the code cell below is 'Not connected to a GPU', you can change the runtime by going to Runtime &gt; Change runtime type in the menu to enable a GPU accelerator, and then re-execute the code cell."
      ]
    },
    {
      "cell_type": "code",
      "metadata": {
        "id": "23TOba33L4qf"
      },
      "source": [
        "gpu_info = !nvidia-smi\n",
        "gpu_info = '\\n'.join(gpu_info)\n",
        "if gpu_info.find('failed') >= 0:\n",
        "  print('Not connected to a GPU')\n",
        "else:\n",
        "  print(gpu_info)"
      ],
      "execution_count": null,
      "outputs": []
    },
    {
      "cell_type": "markdown",
      "metadata": {
        "id": "Sa-IrJS1aRVJ"
      },
      "source": [
        "In order to use a GPU with your notebook, select the Runtime &gt; Change runtime type menu, and then set the hardware accelerator drop-down to GPU."
      ]
    },
    {
      "cell_type": "markdown",
      "metadata": {
        "id": "65MSuHKqNeBZ"
      },
      "source": [
        "## More memory\n",
        "\n",
        "<p>With Colab Pro, you have the option to access high-memory VMs when they are available, and with Pro+ even more so. To set your notebook preference to use a high-memory runtime, select the runtime &gt; 'Change runtime type' menu, and then select High-RAM in the runtime shape drop-down.</p>\n",
        "<p>You can see how much memory you have available at any time by running the following code cell.</p>\n",
        "If the execution result of running the code cell below is 'Not using a high-RAM runtime', then you can enable a high-RAM runtime via Runtime &gt; Change runtime type in the menu. Then select High-RAM in the Runtime shape drop-down. After, re-execute the code cell."
      ]
    },
    {
      "cell_type": "code",
      "metadata": {
        "id": "V1G82GuO-tez"
      },
      "source": [
        "from psutil import virtual_memory\n",
        "ram_gb = virtual_memory().total / 1e9\n",
        "print('Your runtime has {:.1f} gigabytes of available RAM\\n'.format(ram_gb))\n",
        "\n",
        "if ram_gb < 20:\n",
        "  print('Not using a high-RAM runtime')\n",
        "else:\n",
        "  print('You are using a high-RAM runtime!')"
      ],
      "execution_count": null,
      "outputs": []
    },
    {
      "cell_type": "markdown",
      "metadata": {
        "id": "BJW8Qi-pPpep"
      },
      "source": [
        "## Longer runtimes\n",
        "\n",
        "All Colab runtimes are reset after some period of time &#40;which is faster if the runtime isn't executing code&#41;. While Colab Pro subscribers still have limits, these will be approximately twice the limits for non-subscribers, with even more stability for Pro+."
      ]
    },
    {
      "cell_type": "markdown",
      "metadata": {
        "id": "uLlTRcMM_h0k"
      },
      "source": [
        "## Resource limits in Colab Pro\n",
        "\n",
        "Your resources are not unlimited in Colab. To make the most of Colab Pro and Pro+, please avoid using resources when you don't need them. For example, only use a GPU or high-RAM runtime when required, and close Colab tabs when finished.\n"
      ]
    },
    {
      "cell_type": "markdown",
      "metadata": {
        "id": "mm8FzEidvPs6"
      },
      "source": [
        "## Send us feedback!\n",
        "\n",
        "<p>If you have any feedback for us, please let us know. The best way to send feedback is by using the Help &gt; 'Send feedback…' menu. If you encounter usage limits in Colab Pro, consider subscribing to Pro+. If you are interested in unlimited pay-as-you-go usage to remove all imposed limits, please do let us know.</p>\n",
        "<p>If you encounter errors or other issues with billing &#40;payments&#41; for Colab Pro or Pro+, please email <a href=\"mailto:colab-billing@google.com\">colab-billing@google.com</a>.</p>"
      ]
    },
    {
      "cell_type": "markdown",
      "metadata": {
        "id": "qB3bdLe8jkAa"
      },
      "source": [
        "## More resources\n",
        "\n",
        "### Working with notebooks in Colab\n",
        "- [Overview of Colaboratory](/notebooks/basic_features_overview.ipynb)\n",
        "- [Guide to markdown](/notebooks/markdown_guide.ipynb)\n",
        "- [Importing libraries and installing dependencies](/notebooks/snippets/importing_libraries.ipynb)\n",
        "- [Saving and loading notebooks in GitHub](https://colab.research.google.com/github/googlecolab/colabtools/blob/master/notebooks/colab-github-demo.ipynb)\n",
        "- [Interactive forms](/notebooks/forms.ipynb)\n",
        "- [Interactive widgets](/notebooks/widgets.ipynb)\n",
        "- <img src=\"/img/new.png\" height=\"20px\" align=\"left\" hspace=\"4px\" alt=\"New\"></img>\n",
        " [TensorFlow 2 in Colab](/notebooks/tensorflow_version.ipynb)\n",
        "\n",
        "<a name=\"working-with-data\"></a>\n",
        "### Working with data\n",
        "- [Loading data: Drive, Sheets and Google Cloud Storage](/notebooks/io.ipynb) \n",
        "- [Charts: visualising data](/notebooks/charts.ipynb)\n",
        "- [Getting started with BigQuery](/notebooks/bigquery.ipynb)\n",
        "\n",
        "### Machine learning crash course\n",
        "These are a few of the notebooks from Google's online machine learning course. See the <a href=\"https://developers.google.com/machine-learning/crash-course/\">full course website</a> for more.\n",
        "- [Intro to Pandas DataFrame](https://colab.research.google.com/github/google/eng-edu/blob/main/ml/cc/exercises/pandas_dataframe_ultraquick_tutorial.ipynb)\n",
        "- [Linear regression with tf.keras using synthetic data](https://colab.research.google.com/github/google/eng-edu/blob/main/ml/cc/exercises/linear_regression_with_synthetic_data.ipynb)\n",
        "\n",
        "\n",
        "<a name=\"using-accelerated-hardware\"></a>\n",
        "### Using accelerated hardware\n",
        "- [TensorFlow with GPUs](/notebooks/gpu.ipynb)\n",
        "- [TensorFlow with TPUs](/notebooks/tpu.ipynb)"
      ]
    },
    {
      "cell_type": "markdown",
      "metadata": {
        "id": "RFm2S0Gijqo8"
      },
      "source": [
        "<a name=\"machine-learning-examples\"></a>\n",
        "\n",
        "## Machine learning examples\n",
        "\n",
        "To see end-to-end examples of the interactive machine-learning analyses that Colaboratory makes possible, take a look at these tutorials using models from <a href=\"https://tfhub.dev\">TensorFlow Hub</a>.\n",
        "\n",
        "A few featured examples:\n",
        "\n",
        "- <a href=\"https://tensorflow.org/hub/tutorials/tf2_image_retraining\">Retraining an Image Classifier</a>: Build a Keras model on top of a pre-trained image classifier to distinguish flowers.\n",
        "- <a href=\"https://tensorflow.org/hub/tutorials/tf2_text_classification\">Text Classification</a>: Classify IMDB film reviews as either <em>positive</em> or <em>negative</em>.\n",
        "- <a href=\"https://tensorflow.org/hub/tutorials/tf2_arbitrary_image_stylization\">Style Transfer</a>: Use deep learning to transfer style between images.\n",
        "- <a href=\"https://tensorflow.org/hub/tutorials/retrieval_with_tf_hub_universal_encoder_qa\">Multilingual Universal Sentence Encoder Q&amp;A</a>: Use a machine-learning model to answer questions from the SQuAD dataset.\n",
        "- <a href=\"https://tensorflow.org/hub/tutorials/tweening_conv3d\">Video Interpolation</a>: Predict what happened in a video between the first and the last frame.\n"
      ]
    }
  ]
}