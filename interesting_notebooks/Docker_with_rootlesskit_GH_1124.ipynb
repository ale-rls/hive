{
  "nbformat": 4,
  "nbformat_minor": 0,
  "metadata": {
    "colab": {
      "name": "Docker-with-rootlesskit-GH-1124.ipynb",
      "provenance": [],
      "collapsed_sections": [],
      "include_colab_link": true
    },
    "kernelspec": {
      "name": "python3",
      "display_name": "Python 3"
    }
  },
  "cells": [
    {
      "cell_type": "markdown",
      "metadata": {
        "id": "view-in-github",
        "colab_type": "text"
      },
      "source": [
        "<a href=\"https://colab.research.google.com/github/pollinations/hive/blob/main/interesting_notebooks/Docker_with_rootlesskit_GH_1124.ipynb\" target=\"_parent\"><img src=\"https://colab.research.google.com/assets/colab-badge.svg\" alt=\"Open In Colab\"/></a>"
      ]
    },
    {
      "cell_type": "markdown",
      "metadata": {
        "id": "emoatwkZsZJw"
      },
      "source": [
        "When testing on the new environment, run all below commands in sequence."
      ]
    },
    {
      "cell_type": "code",
      "metadata": {
        "id": "npabYL5R7e74",
        "colab": {
          "base_uri": "https://localhost:8080/",
          "height": 255
        },
        "outputId": "edea1898-a2c9-4b0e-c87d-ad27a3b454c4"
      },
      "source": [
        "%%shell\n",
        "curl -s https://download.docker.com/linux/static/stable/x86_64/docker-19.03.9.tgz | tar vxz --strip=1 -C /usr/local/bin/\n",
        "curl -s https://download.docker.com/linux/static/stable/x86_64/docker-rootless-extras-19.03.9.tgz | tar vxz --strip=1 -C /usr/local/bin/\n",
        "useradd -md /home/docker docker\n",
        "apt-get -qqq install iproute2 uidmap\n",
        "docker --version"
      ],
      "execution_count": null,
      "outputs": [
        {
          "output_type": "stream",
          "text": [
            "docker/docker-init\n",
            "docker/runc\n",
            "docker/docker\n",
            "docker/docker-proxy\n",
            "docker/containerd\n",
            "docker/ctr\n",
            "docker/dockerd\n",
            "docker/containerd-shim\n",
            "docker-rootless-extras/vpnkit\n",
            "docker-rootless-extras/dockerd-rootless.sh\n",
            "docker-rootless-extras/rootlesskit\n",
            "docker-rootless-extras/rootlesskit-docker-proxy\n",
            "useradd: user 'docker' already exists\n",
            "Docker version 19.03.9, build 9d988398e7\n"
          ],
          "name": "stdout"
        },
        {
          "output_type": "execute_result",
          "data": {
            "text/plain": [
              ""
            ]
          },
          "metadata": {
            "tags": []
          },
          "execution_count": 1
        }
      ]
    },
    {
      "cell_type": "code",
      "metadata": {
        "id": "3rQf4P9RGsYU",
        "colab": {
          "base_uri": "https://localhost:8080/",
          "height": 559
        },
        "outputId": "8c572368-d3bd-4e32-bf9e-b8734f256d39"
      },
      "source": [
        "%%shell\n",
        "sudo -Hu docker dockerd-rootless.sh\n",
        "# Note: To kill stuck process, click stop 3 times."
      ],
      "execution_count": null,
      "outputs": [
        {
          "output_type": "stream",
          "text": [
            "+ [ -w ]\n",
            "+ [ -w /home/docker ]\n",
            "+ rootlesskit=\n",
            "+ which docker-rootlesskit\n",
            "+ which rootlesskit\n",
            "+ rootlesskit=rootlesskit\n",
            "+ break\n",
            "+ [ -z rootlesskit ]\n",
            "+ : \n",
            "+ : \n",
            "+ : auto\n",
            "+ : auto\n",
            "+ net=\n",
            "+ mtu=\n",
            "+ [ -z ]\n",
            "+ which slirp4netns\n",
            "+ [ -z ]\n",
            "+ which vpnkit\n",
            "+ net=vpnkit\n",
            "+ [ -z ]\n",
            "+ mtu=1500\n",
            "+ [ -z ]\n",
            "+ _DOCKERD_ROOTLESS_CHILD=1\n",
            "+ export _DOCKERD_ROOTLESS_CHILD\n",
            "+ exec rootlesskit --net=vpnkit --mtu=1500 --slirp4netns-sandbox=auto --slirp4netns-seccomp=auto --disable-host-loopback --port-driver=builtin --copy-up=/etc --copy-up=/run /usr/local/bin/dockerd-rootless.sh\n",
            "\u001b[33mWARN\u001b[0m[0000] failed to mount sysfs, falling back to read-only mount: operation not permitted \n",
            "\u001b[33mWARN\u001b[0m[0000] failed to mount sysfs: operation not permitted \n",
            "open: No such file or directory\n",
            "[rootlesskit:child ] error: executing [[ip tuntap add name tap0 mode tap] [ip link set tap0 address 02:50:00:00:00:01]]: exit status 1\n"
          ],
          "name": "stdout"
        }
      ]
    }
  ]
}