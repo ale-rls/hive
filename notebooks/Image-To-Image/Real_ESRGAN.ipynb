{
  "nbformat": 4,
  "nbformat_minor": 0,
  "metadata": {
    "colab": {
      "name": "Image-to-Image - Real-ESRGAN",
      "provenance": [],
      "collapsed_sections": [],
      "machine_shape": "hm",
      "include_colab_link": true
    },
    "kernelspec": {
      "name": "python3",
      "display_name": "Python 3"
    },
    "accelerator": "GPU"
  },
  "cells": [
    {
      "cell_type": "markdown",
      "metadata": {
        "id": "view-in-github",
        "colab_type": "text"
      },
      "source": [
        "<a href=\"https://colab.research.google.com/github/pollinations/hive/blob/notebook-esrgan/notebooks/Image_to_Image/Real_ESRGAN.ipynb\" target=\"_parent\"><img src=\"https://colab.research.google.com/assets/colab-badge.svg\" alt=\"Open In Colab\"/></a>"
      ]
    },
    {
      "cell_type": "markdown",
      "metadata": {
        "id": "ko_JJEB3YcC9"
      },
      "source": [
        "# Video Super Resolution\n",
        "\n",
        "Used for making Marvin's dream"
      ]
    },
    {
      "cell_type": "code",
      "metadata": {
        "cellView": "form",
        "id": "0P0R3JoOLLX5"
      },
      "source": [
        "#@title Upscale images/video frames\n",
        "\n",
        "\n",
        "#loaded_upscale_model = False\n",
        "\n",
        "def upscale(filepath):\n",
        "  if not super_resolution:\n",
        "    return\n",
        "  global loaded_upscale_model\n",
        "  if not loaded_upscale_model:\n",
        "    # Clone Real-ESRGAN and enter the Real-ESRGAN\n",
        "    !git clone https://github.com/xinntao/Real-ESRGAN.git\n",
        "    %cd /content/Real-ESRGAN\n",
        "    # Set up the environment\n",
        "    !pip install basicsr\n",
        "    !pip install facexlib\n",
        "    !pip install gfpgan\n",
        "    !pip install -r requirements.txt\n",
        "    !python setup.py develop\n",
        "    # Download the pre-trained model\n",
        "    !wget https://github.com/xinntao/Real-ESRGAN/releases/download/v0.1.0/RealESRGAN_x4plus.pth -P experiments/pretrained_models\n",
        "    %cd -\n",
        "    loaded_upscale_model = True \n",
        "  \n",
        "  %cd /content/Real-ESRGAN\n",
        "  !python inference_realesrgan.py --model_path experiments/pretrained_models/RealESRGAN_x4plus.pth --input $filepath --netscale 4 --outscale 2 --half --output /content/ipfs/output\n",
        "  #filepath_out = filepath.replace(\".jpg\",\"_out.jpg\")\n",
        "  #!mv -v $filepath_out $filepath\n",
        "  %cd -"
      ],
      "execution_count": null,
      "outputs": []
    },
    {
      "cell_type": "code",
      "metadata": {
        "id": "Imbx0DBfLMy6"
      },
      "source": [
        "!mkdir /content/output\n",
        "!mkdir /content/frames\n",
        "\n",
        "#!ffmpeg -i historinha*  -r 10 /content/frames/historinha%04d.jpg\n",
        "from glob import glob\n",
        "from tqdm import tqdm\n",
        "super_resolution=True\n",
        "%cd /content\n",
        "#!ls -l\n",
        "%cd /content\n",
        "#for image in tqdm(glob(\"/tmp/frames/*.jpg\")):\n",
        "#  print(\"upscale\", image)\n",
        "upscale(\"/content/frames\")"
      ],
      "execution_count": null,
      "outputs": []
    },
    {
      "cell_type": "code",
      "metadata": {
        "id": "eEGlgzdsMK1m"
      },
      "source": [
        "!ffmpeg  -r 10 -i ./ipfs/output/%*.jpg -y -c:v libx264 video.mp4"
      ],
      "execution_count": null,
      "outputs": []
    },
    {
      "cell_type": "code",
      "metadata": {
        "id": "jx28KD7q7-am"
      },
      "source": [
        "!cp video.mp4 ipfs/output/vid.mp4"
      ],
      "execution_count": null,
      "outputs": []
    }
  ]
}