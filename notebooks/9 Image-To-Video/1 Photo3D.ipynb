{
  "cells": [
    {
      "cell_type": "markdown",
      "metadata": {},
      "source": [
        "The method for converting a single RGB-D input image into a 3D photo, i.e., a multi-layer representation for novel view synthesis that contains hallucinated color and depth structures in regions occluded in the original view."
      ]
    },
    {
      "cell_type": "code",
      "execution_count": null,
      "metadata": {},
      "outputs": [],
      "source": [
        "# Input image that will be converted to 3D\n",
        "file_image = '' #@param {type: \"string\"}\n",
        "\n",
        "output_path = \"/content/output\"\n"
      ]
    },
    {
      "cell_type": "markdown",
      "metadata": {
        "id": "fJnMZEPUEhmo"
      },
      "source": [
        "### STAGE ONE: Prepare dependencies."
      ]
    },
    {
      "cell_type": "code",
      "execution_count": null,
      "metadata": {
        "cellView": "both",
        "id": "UHDdbXBD8Kvj"
      },
      "outputs": [],
      "source": [
        "!ls -l /usr/local/cuda\n",
        "!git clone https://github.com/CyFeng16/MVIMP.git\n",
        "\n",
        "import os\n",
        "os.chdir('/content/MVIMP')\n",
        "!python3 preparation.py -f photo3d"
      ]
    },
    {
      "cell_type": "markdown",
      "metadata": {
        "id": "3jSYV2A3L0Y0"
      },
      "source": [
        "### STAGE TWO: **Upload** your pictures in `MVIMP/Data/Input`.<br>Processed outputs will be in `MVIMP/Data/Output`."
      ]
    },
    {
      "cell_type": "markdown",
      "metadata": {
        "id": "XQ8eK4JlFBzQ"
      },
      "source": [
        "### STAGE THREE: One-line commmand to embrace Photo3D(converting a single RGB-D input image into a 3D photo).\n",
        "\n",
        "| params            | abbr. | Default | Description                                              |\n",
        "|-------------------|-------|---------|----------------------------------------------------------|\n",
        "| --fps             | -f    | 40      | The FPS of output video.                                 |\n",
        "| --frames          | -n    | 240     | The number of frames of output video.                    |\n",
        "| --longer_side_len | -l    | 960     | The longer side of output video(either height or width). |"
      ]
    },
    {
      "cell_type": "code",
      "execution_count": null,
      "metadata": {
        "cellView": "both",
        "id": "KbWn1P6vMbAa"
      },
      "outputs": [],
      "source": [
        "!mkdir -p /content/MVIMP/Data/Input\n",
        "!cp -v {image_file} /content/MVIMP/Data/Input\n",
        "!python3 inference_photo3d.py -f 30 -n 240 -l 960\n",
        "!cp -v /content/MVIMP/Data/Output/* {output_path}"
      ]
    }
  ],
  "metadata": {
    "accelerator": "GPU",
    "colab": {
      "collapsed_sections": [],
      "name": "MVIMP-Photo3D-Demo.ipynb",
      "private_outputs": true,
      "provenance": []
    },
    "kernelspec": {
      "display_name": "Python 3",
      "name": "python3"
    }
  },
  "nbformat": 4,
  "nbformat_minor": 0
}
