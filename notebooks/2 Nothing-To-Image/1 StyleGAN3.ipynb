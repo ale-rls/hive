{
  "nbformat": 4,
  "nbformat_minor": 2,
  "metadata": {
    "colab": {
      "name": "StyleGAN3.ipynb",
      "provenance": [],
      "collapsed_sections": []
    },
    "kernelspec": {
      "name": "python3",
      "display_name": "Python 3"
    },
    "language_info": {
      "name": "python"
    },
    "accelerator": "GPU"
  },
  "cells": [
    {
      "cell_type": "markdown",
      "source": [
        "! **WORK IN PROGRESS** Could still fail without reason !\n",
        "\n",
        "This Notebook allows trying out **StyleGAN3** (aka Alias-Free GAN) released in [this repo](https://github.com/NVlabs/stylegan3) by NVidia. Colab produced by [crimeacs](https://twitter.com/EarthML1). Also check out my [telegram channel](https://t.me/nn_for_science) about Deep Learning for Science."
      ],
      "metadata": {
        "id": "aHzltei9Ue7I"
      }
    },
    {
      "cell_type": "code",
      "execution_count": null,
      "source": [
        "#@markdown Which model to use\n",
        "model = \"stylegan3-r-metfacesu-1024x1024.pkl\" #@param [\"stylegan3-r-afhqv2-512x512.pkl\", \"stylegan3-r-ffhq-1024x1024.pkl\", \"stylegan3-r-ffhqu-1024x1024.pkl\",\"stylegan3-r-ffhqu-256x256.pkl\",\"stylegan3-r-metfaces-1024x1024.pkl\",\"stylegan3-r-metfacesu-1024x1024.pkl\",\"stylegan3-t-afhqv2-512x512.pkl\",\"stylegan3-t-ffhq-1024x1024.pkl\",\"stylegan3-t-ffhqu-1024x1024.pkl\",\"stylegan3-t-ffhqu-256x256.pkl\",\"stylegan3-t-metfaces-1024x1024.pkl\",\"stylegan3-t-metfacesu-1024x1024.pkl\"]\n",
        "\n",
        "#@markdown Random seed for start (each number generates a unique sequence)\n",
        "start_seed = 42 #@param {type:\"number\"}\n",
        "\n",
        "#@markdown Random seed for end (each number generates a unique sequence)\n",
        "stop_seed = 669 #@param {type:\"number\"}\n",
        "\n",
        "#@markdown Number of images to render on the x-axis\n",
        "n_cols =  1 #@param {type:\"number\"}\n",
        "\n",
        "#@markdown Number of images to render on the y-axis\n",
        "n_rows = 2 #@param {type:\"number\"}\n",
        "\n",
        "#@markdown How many key frames to have?\n",
        "num_keyframes = 3 #@param {type:\"number\"}\n",
        "\n",
        "#@markdown How many frames for interpolation?\n",
        "w_frames =  100 #@param {type:\"number\"}\n",
        "\n",
        "output_path=\"/content\"\n"
      ],
      "outputs": [],
      "metadata": {
        "id": "etC2L0KvjJmM"
      }
    },
    {
      "cell_type": "code",
      "execution_count": 1,
      "source": [
        "#@title Install dependencies\n",
        "from IPython.display import clear_output\n",
        "\n",
        "!git clone https://github.com/NVlabs/stylegan3.git\n",
        "%cd stylegan3\n",
        "!wget -O mini.sh https://repo.anaconda.com/miniconda/Miniconda3-py38_4.8.2-Linux-x86_64.sh\n",
        "!chmod +x mini.sh\n",
        "!bash ./mini.sh -b -f -p /usr/local\n",
        "!conda install -q -y --prefix /usr/local jupyter\n",
        "!python -m ipykernel install --name \"py38\" --user\n",
        "!pip install click -q\n",
        "!pip install numpy -q\n",
        "!pip install pillow -q\n",
        "!pip install torch -q\n",
        "!pip install scipy -q\n",
        "!pip install Ninja -q\n",
        "!pip install imageio -q\n",
        "!pip install imageio-ffmpeg -q\n",
        "clear_output()\n",
        "\n",
        "import matplotlib.pyplot as plt\n",
        "from PIL import Image\n"
      ],
      "outputs": [],
      "metadata": {
        "id": "d99HsTjTQRzg"
      }
    },
    {
      "cell_type": "code",
      "execution_count": null,
      "source": [
        "#@title Generate an interpolation video\n",
        "%cd /content/stylegan3\n",
        "\n",
        "#@markdown Total length in frames is `num_keyframes`*`w_frames`\n",
        "\n",
        "assert stop_seed > start_seed, 'Stop_seed should be larger then start_seed'\n",
        "baselink ='https://api.ngc.nvidia.com/v2/models/nvidia/research/stylegan3/versions/1/files/'\n",
        "\n",
        "output_video = f\"{output_path}/lerp.mp4\"\n",
        "# Render a  grid of interpolations for seeds N through K.\n",
        "!python gen_video.py --output=$output_video --trunc=1 --seeds=$start_seed-$stop_seed --grid={n_rows}x{n_cols} \\\n",
        "    --network=$baselink$model --num-keyframes=$num_keyframes \\\n",
        "    --w-frames=$w_frames\n",
        "\n"
      ],
      "outputs": [],
      "metadata": {
        "colab": {
          "base_uri": "https://localhost:8080/",
          "height": 326
        },
        "id": "ZREJuYfjbV3G",
        "outputId": "11f5ae00-fbb6-45ff-a144-51217cb92986"
      }
    }
  ]
}