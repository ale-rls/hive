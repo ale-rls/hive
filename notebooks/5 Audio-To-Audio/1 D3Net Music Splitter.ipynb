{
  "nbformat": 4,
  "nbformat_minor": 0,
  "metadata": {
    "accelerator": "GPU",
    "colab": {
      "name": "Audio-To-Audio - D3Net Music Splitter",
      "provenance": []
    },
    "kernelspec": {
      "display_name": "Python 3",
      "language": "python",
      "name": "python3"
    },
    "language_info": {
      "codemirror_mode": {
        "name": "ipython",
        "version": 3
      },
      "file_extension": ".py",
      "mimetype": "text/x-python",
      "name": "python",
      "nbconvert_exporter": "python",
      "pygments_lexer": "ipython3",
      "version": "3.7.3"
    }
  },
  "cells": [
    {
      "cell_type": "markdown",
      "metadata": {
        "id": "YZa1_42XDFdS"
      },
      "source": [
        "D3Net Music Splitter\n",
        "\n",
        "Splits full music tracks into vocal, bass, drums and rest.\n",
        "\n",
        "![Splitter Image](https://pollinations.ai/ipfs/QmcZnxE2z189BaPkfaS2VZ2frFSQbpVDH4A8s88tZhR4sf)"
      ]
    },
    {
      "cell_type": "code",
      "metadata": {
        "id": "UbmdbQnaOk4G"
      },
      "source": [
        "# Music file to split\n",
        "audio_file = ''  #@param {type: \"string\"}\n",
        "# Alternative: link to youtube or soundcloud\n",
        "youtube_dl_link = '' #@param {type: \"string\"}\n",
        "\n",
        "output_path = '/content'\n"
      ],
      "execution_count": 1,
      "outputs": []
    },
    {
      "cell_type": "code",
      "metadata": {
        "id": "nC-5fp3lGvYA",
        "outputId": "ff3adde5-c32d-48f8-a2b8-65a16fd1f56e",
        "colab": {
          "base_uri": "https://localhost:8080/"
        }
      },
      "source": [
        "if audio_file == '' and youtube_dl_link != '':\n",
        "  !pip install youtube-dl\n",
        "  !youtube-dl --extract-audio --audio-format wav {youtube_dl_link} --output /tmp/audio_file.wav\n",
        "  audio_file = \"/tmp/audio_file.wav\"\n"
      ],
      "execution_count": 2,
      "outputs": [
        {
          "output_type": "stream",
          "name": "stdout",
          "text": [
            "Collecting youtube-dl\n",
            "  Downloading youtube_dl-2021.6.6-py2.py3-none-any.whl (1.9 MB)\n",
            "\u001b[K     |████████████████████████████████| 1.9 MB 16.3 MB/s \n",
            "\u001b[?25hInstalling collected packages: youtube-dl\n",
            "Successfully installed youtube-dl-2021.6.6\n",
            "[youtube] V1bFr2SWP1I: Downloading webpage\n",
            "[youtube] V1bFr2SWP1I: Downloading player 2dfe380c\n",
            "[download] Destination: /tmp/audio_file.wav\n",
            "\u001b[K[download] 100% of 3.51MiB in 00:58\n",
            "[ffmpeg] Correcting container in \"/tmp/audio_file.wav\"\n",
            "[ffmpeg] Post-process file /tmp/audio_file.wav exists, skipping\n"
          ]
        }
      ]
    },
    {
      "cell_type": "code",
      "metadata": {
        "colab": {
          "base_uri": "https://localhost:8080/"
        },
        "id": "zLhVhnfLDFdY",
        "outputId": "f82e6e16-2bbf-4e2b-9c94-1b33d68058e8"
      },
      "source": [
        "!pip install soundfile librosa pydub nnabla-ext-cuda100\n",
        "!pip install --upgrade PyYAML"
      ],
      "execution_count": 3,
      "outputs": [
        {
          "output_type": "stream",
          "name": "stdout",
          "text": [
            "Requirement already satisfied: soundfile in /usr/local/lib/python3.7/dist-packages (0.10.3.post1)\n",
            "Requirement already satisfied: librosa in /usr/local/lib/python3.7/dist-packages (0.8.1)\n",
            "Collecting pydub\n",
            "  Downloading pydub-0.25.1-py2.py3-none-any.whl (32 kB)\n",
            "Collecting nnabla-ext-cuda100\n",
            "  Downloading nnabla_ext_cuda100-1.22.0-cp37-cp37m-manylinux_2_27_x86_64.whl (47.6 MB)\n",
            "\u001b[K     |████████████████████████████████| 47.6 MB 93 kB/s \n",
            "\u001b[?25hRequirement already satisfied: cffi>=1.0 in /usr/local/lib/python3.7/dist-packages (from soundfile) (1.15.0)\n",
            "Requirement already satisfied: pycparser in /usr/local/lib/python3.7/dist-packages (from cffi>=1.0->soundfile) (2.21)\n",
            "Requirement already satisfied: resampy>=0.2.2 in /usr/local/lib/python3.7/dist-packages (from librosa) (0.2.2)\n",
            "Requirement already satisfied: scikit-learn!=0.19.0,>=0.14.0 in /usr/local/lib/python3.7/dist-packages (from librosa) (1.0.1)\n",
            "Requirement already satisfied: scipy>=1.0.0 in /usr/local/lib/python3.7/dist-packages (from librosa) (1.4.1)\n",
            "Requirement already satisfied: numba>=0.43.0 in /usr/local/lib/python3.7/dist-packages (from librosa) (0.51.2)\n",
            "Requirement already satisfied: packaging>=20.0 in /usr/local/lib/python3.7/dist-packages (from librosa) (21.2)\n",
            "Requirement already satisfied: pooch>=1.0 in /usr/local/lib/python3.7/dist-packages (from librosa) (1.5.2)\n",
            "Requirement already satisfied: audioread>=2.0.0 in /usr/local/lib/python3.7/dist-packages (from librosa) (2.1.9)\n",
            "Requirement already satisfied: joblib>=0.14 in /usr/local/lib/python3.7/dist-packages (from librosa) (1.1.0)\n",
            "Requirement already satisfied: decorator>=3.0.0 in /usr/local/lib/python3.7/dist-packages (from librosa) (4.4.2)\n",
            "Requirement already satisfied: numpy>=1.15.0 in /usr/local/lib/python3.7/dist-packages (from librosa) (1.19.5)\n",
            "Requirement already satisfied: setuptools in /usr/local/lib/python3.7/dist-packages (from numba>=0.43.0->librosa) (57.4.0)\n",
            "Requirement already satisfied: llvmlite<0.35,>=0.34.0.dev0 in /usr/local/lib/python3.7/dist-packages (from numba>=0.43.0->librosa) (0.34.0)\n",
            "Requirement already satisfied: pyparsing<3,>=2.0.2 in /usr/local/lib/python3.7/dist-packages (from packaging>=20.0->librosa) (2.4.7)\n",
            "Requirement already satisfied: requests in /usr/local/lib/python3.7/dist-packages (from pooch>=1.0->librosa) (2.23.0)\n",
            "Requirement already satisfied: appdirs in /usr/local/lib/python3.7/dist-packages (from pooch>=1.0->librosa) (1.4.4)\n",
            "Requirement already satisfied: six>=1.3 in /usr/local/lib/python3.7/dist-packages (from resampy>=0.2.2->librosa) (1.15.0)\n",
            "Requirement already satisfied: threadpoolctl>=2.0.0 in /usr/local/lib/python3.7/dist-packages (from scikit-learn!=0.19.0,>=0.14.0->librosa) (3.0.0)\n",
            "Collecting nnabla==1.22.0\n",
            "  Downloading nnabla-1.22.0-cp37-cp37m-manylinux_2_27_x86_64.whl (18.7 MB)\n",
            "\u001b[K     |████████████████████████████████| 18.7 MB 37 kB/s \n",
            "\u001b[?25hRequirement already satisfied: protobuf>=3.6 in /usr/local/lib/python3.7/dist-packages (from nnabla==1.22.0->nnabla-ext-cuda100) (3.17.3)\n",
            "Requirement already satisfied: Cython in /usr/local/lib/python3.7/dist-packages (from nnabla==1.22.0->nnabla-ext-cuda100) (0.29.24)\n",
            "Collecting boto3\n",
            "  Downloading boto3-1.20.6-py3-none-any.whl (131 kB)\n",
            "\u001b[K     |████████████████████████████████| 131 kB 59.1 MB/s \n",
            "\u001b[?25hRequirement already satisfied: pyyaml in /usr/local/lib/python3.7/dist-packages (from nnabla==1.22.0->nnabla-ext-cuda100) (3.13)\n",
            "Requirement already satisfied: h5py<=3.1.0 in /usr/local/lib/python3.7/dist-packages (from nnabla==1.22.0->nnabla-ext-cuda100) (3.1.0)\n",
            "Requirement already satisfied: tqdm in /usr/local/lib/python3.7/dist-packages (from nnabla==1.22.0->nnabla-ext-cuda100) (4.62.3)\n",
            "Requirement already satisfied: pillow in /usr/local/lib/python3.7/dist-packages (from nnabla==1.22.0->nnabla-ext-cuda100) (7.1.2)\n",
            "Collecting configparser\n",
            "  Downloading configparser-5.1.0-py3-none-any.whl (19 kB)\n",
            "Requirement already satisfied: contextlib2 in /usr/local/lib/python3.7/dist-packages (from nnabla==1.22.0->nnabla-ext-cuda100) (0.5.5)\n",
            "Requirement already satisfied: imageio in /usr/local/lib/python3.7/dist-packages (from nnabla==1.22.0->nnabla-ext-cuda100) (2.4.1)\n",
            "Requirement already satisfied: cached-property in /usr/local/lib/python3.7/dist-packages (from h5py<=3.1.0->nnabla==1.22.0->nnabla-ext-cuda100) (1.5.2)\n",
            "Collecting s3transfer<0.6.0,>=0.5.0\n",
            "  Downloading s3transfer-0.5.0-py3-none-any.whl (79 kB)\n",
            "\u001b[K     |████████████████████████████████| 79 kB 10.4 MB/s \n",
            "\u001b[?25hCollecting jmespath<1.0.0,>=0.7.1\n",
            "  Downloading jmespath-0.10.0-py2.py3-none-any.whl (24 kB)\n",
            "Collecting botocore<1.24.0,>=1.23.6\n",
            "  Downloading botocore-1.23.6-py3-none-any.whl (8.1 MB)\n",
            "\u001b[K     |████████████████████████████████| 8.1 MB 60.2 MB/s \n",
            "\u001b[?25hRequirement already satisfied: python-dateutil<3.0.0,>=2.1 in /usr/local/lib/python3.7/dist-packages (from botocore<1.24.0,>=1.23.6->boto3->nnabla==1.22.0->nnabla-ext-cuda100) (2.8.2)\n",
            "Collecting urllib3<1.27,>=1.25.4\n",
            "  Downloading urllib3-1.26.7-py2.py3-none-any.whl (138 kB)\n",
            "\u001b[K     |████████████████████████████████| 138 kB 71.1 MB/s \n",
            "\u001b[?25hRequirement already satisfied: chardet<4,>=3.0.2 in /usr/local/lib/python3.7/dist-packages (from requests->pooch>=1.0->librosa) (3.0.4)\n",
            "Requirement already satisfied: certifi>=2017.4.17 in /usr/local/lib/python3.7/dist-packages (from requests->pooch>=1.0->librosa) (2021.10.8)\n",
            "  Downloading urllib3-1.25.11-py2.py3-none-any.whl (127 kB)\n",
            "\u001b[K     |████████████████████████████████| 127 kB 76.1 MB/s \n",
            "\u001b[?25hRequirement already satisfied: idna<3,>=2.5 in /usr/local/lib/python3.7/dist-packages (from requests->pooch>=1.0->librosa) (2.10)\n",
            "Installing collected packages: urllib3, jmespath, botocore, s3transfer, configparser, boto3, nnabla, pydub, nnabla-ext-cuda100\n",
            "  Attempting uninstall: urllib3\n",
            "    Found existing installation: urllib3 1.24.3\n",
            "    Uninstalling urllib3-1.24.3:\n",
            "      Successfully uninstalled urllib3-1.24.3\n",
            "\u001b[31mERROR: pip's dependency resolver does not currently take into account all the packages that are installed. This behaviour is the source of the following dependency conflicts.\n",
            "datascience 0.10.6 requires folium==0.2.1, but you have folium 0.8.3 which is incompatible.\u001b[0m\n",
            "Successfully installed boto3-1.20.6 botocore-1.23.6 configparser-5.1.0 jmespath-0.10.0 nnabla-1.22.0 nnabla-ext-cuda100-1.22.0 pydub-0.25.1 s3transfer-0.5.0 urllib3-1.25.11\n",
            "Requirement already satisfied: PyYAML in /usr/local/lib/python3.7/dist-packages (3.13)\n",
            "Collecting PyYAML\n",
            "  Downloading PyYAML-6.0-cp37-cp37m-manylinux_2_5_x86_64.manylinux1_x86_64.manylinux_2_12_x86_64.manylinux2010_x86_64.whl (596 kB)\n",
            "\u001b[K     |████████████████████████████████| 596 kB 13.1 MB/s \n",
            "\u001b[?25hInstalling collected packages: PyYAML\n",
            "  Attempting uninstall: PyYAML\n",
            "    Found existing installation: PyYAML 3.13\n",
            "    Uninstalling PyYAML-3.13:\n",
            "      Successfully uninstalled PyYAML-3.13\n",
            "Successfully installed PyYAML-6.0\n"
          ]
        }
      ]
    },
    {
      "cell_type": "markdown",
      "metadata": {
        "id": "04j4YatTDFdZ"
      },
      "source": [
        "\n",
        "Next, clone the code from sony/ai-research-code repository, and then download the [pre-trained weights](https://nnabla.org/pretrained-models/ai-research-code/d3net/mss/d3net-mss.h5) to test on music files(only wav format)."
      ]
    },
    {
      "cell_type": "code",
      "metadata": {
        "colab": {
          "base_uri": "https://localhost:8080/"
        },
        "id": "zExvL4qzDFda",
        "outputId": "bfa352d8-d0e1-4d52-a2f5-b76ee30710e8"
      },
      "source": [
        "%cd /content\n",
        "!git clone https://github.com/sony/ai-research-code.git\n",
        "%cd /content/ai-research-code/d3net/music-source-separation\n",
        "!wget -N https://nnabla.org/pretrained-models/ai-research-code/d3net/mss/d3net-mss.zip\n",
        "!unzip -o d3net-mss.zip"
      ],
      "execution_count": 4,
      "outputs": [
        {
          "output_type": "stream",
          "name": "stdout",
          "text": [
            "/content\n",
            "Cloning into 'ai-research-code'...\n",
            "remote: Enumerating objects: 434, done.\u001b[K\n",
            "remote: Counting objects: 100% (434/434), done.\u001b[K\n",
            "remote: Compressing objects: 100% (263/263), done.\u001b[K\n",
            "remote: Total 434 (delta 226), reused 345 (delta 159), pack-reused 0\u001b[K\n",
            "Receiving objects: 100% (434/434), 2.12 MiB | 5.34 MiB/s, done.\n",
            "Resolving deltas: 100% (226/226), done.\n",
            "/content/ai-research-code/d3net/music-source-separation\n",
            "--2021-11-16 15:23:13--  https://nnabla.org/pretrained-models/ai-research-code/d3net/mss/d3net-mss.zip\n",
            "Resolving nnabla.org (nnabla.org)... 18.66.248.53, 18.66.248.82, 18.66.248.90, ...\n",
            "Connecting to nnabla.org (nnabla.org)|18.66.248.53|:443... connected.\n",
            "HTTP request sent, awaiting response... 200 OK\n",
            "Length: 41074052 (39M) [application/zip]\n",
            "Saving to: ‘d3net-mss.zip’\n",
            "\n",
            "d3net-mss.zip       100%[===================>]  39.17M   173MB/s    in 0.2s    \n",
            "\n",
            "2021-11-16 15:23:13 (173 MB/s) - ‘d3net-mss.zip’ saved [41074052/41074052]\n",
            "\n",
            "Archive:  d3net-mss.zip\n",
            "   creating: d3net-mss/\n",
            "  inflating: d3net-mss/drums.h5      \n",
            "  inflating: d3net-mss/other.h5      \n",
            "  inflating: d3net-mss/vocals.h5     \n",
            "  inflating: d3net-mss/bass.h5       \n"
          ]
        }
      ]
    },
    {
      "cell_type": "markdown",
      "metadata": {
        "id": "l0MOUmgBDFda"
      },
      "source": [
        "# Testing\n",
        "\n",
        "If you do not have sample music files, such files can be downloaded from [this link](https://www.ee.columbia.edu/~dpwe/sounds/music/)."
      ]
    },
    {
      "cell_type": "code",
      "metadata": {
        "id": "h_oeEUSADFdb"
      },
      "source": [
        "filename = audio_file"
      ],
      "execution_count": 5,
      "outputs": []
    },
    {
      "cell_type": "code",
      "metadata": {
        "colab": {
          "base_uri": "https://localhost:8080/"
        },
        "id": "srysqhRWDFdb",
        "outputId": "3dfb39e9-fff1-4cd4-b3dc-369d953ef856"
      },
      "source": [
        "!python separate.py  -i \"$filename\" -o /tmp\n",
        "!mv -v /tmp/audio_file/*.wav $output_path"
      ],
      "execution_count": 6,
      "outputs": [
        {
          "output_type": "stream",
          "name": "stdout",
          "text": [
            "2021-11-16 15:23:14,476 [nnabla][INFO]: Initializing CPU extension...\n",
            "2021-11-16 15:23:17,192 [nnabla][INFO]: Initializing CUDA extension...\n",
            "2021-11-16 15:23:17,237 [nnabla][INFO]: Initializing cuDNN extension...\n",
            "1 / 1  : /tmp/audio_file.wav\n",
            "tcmalloc: large alloc 1283694592 bytes == 0x5577e950e000 @  0x7f3c9e3ba001 0x7f3c9bc2154f 0x7f3c9bc71b58 0x7f3c9bc75b17 0x7f3c9bd14203 0x55772c8a1544 0x55772c8a1240 0x55772c915627 0x55772c90f9ee 0x55772c8a2bda 0x55772c910915 0x55772c90f9ee 0x55772c8a2bda 0x55772c911737 0x55772c90f9ee 0x55772c90f6f3 0x55772c9d94c2 0x55772c9d983d 0x55772c9d96e6 0x55772c9b1163 0x55772c9b0e0c 0x7f3c9d1a2bf7 0x55772c9b0cea\n",
            "tcmalloc: large alloc 1283694592 bytes == 0x55783a9cc000 @  0x7f3c9e3b81e7 0x7f3c9bc2146e 0x7f3c9bc71c7b 0x7f3c9bc71d97 0x7f3c9bd13ff1 0x55772c8a3749 0x7f3c9bc5eef7 0x55772c8a1437 0x55772c8a1240 0x55772c914973 0x55772c90f9ee 0x55772c8a2bda 0x55772c911737 0x55772c90f9ee 0x55772c7e1eb0 0x7f3c9bc5eef7 0x55772c8a1437 0x55772c8a1240 0x55772c914973 0x55772c90f9ee 0x55772c8a2bda 0x55772c914d00 0x55772c90f9ee 0x55772c8a2bda 0x55772c910915 0x55772c90f9ee 0x55772c8a2bda 0x55772c911737 0x55772c90f9ee 0x55772c90f6f3 0x55772c9d94c2\n",
            "renamed '/tmp/audio_file/bass.wav' -> '/content/bass.wav'\n",
            "renamed '/tmp/audio_file/drums.wav' -> '/content/drums.wav'\n",
            "renamed '/tmp/audio_file/other.wav' -> '/content/other.wav'\n",
            "renamed '/tmp/audio_file/vocals.wav' -> '/content/vocals.wav'\n"
          ]
        }
      ]
    }
  ]
}