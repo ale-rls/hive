{
  "nbformat": 4,
  "nbformat_minor": 0,
  "metadata": {
    "colab": {
      "name": "RIFE Video Interpolation",
      "private_outputs": true,
      "provenance": [],
      "authorship_tag": "ABX9TyPNnsfAiEDb58tfVLXIAe7V"
    },
    "kernelspec": {
      "name": "python3",
      "display_name": "Python 3"
    },
    "language_info": {
      "name": "python"
    },
    "accelerator": "GPU"
  },
  "cells": [
    {
      "cell_type": "markdown",
      "metadata": {
        "id": "NDK60hNeoGDC"
      },
      "source": [
        "RIFE Video Interpolation\n",
        "\n",
        "Converts choppy videos with a low framerates to smooth ones. Code suggested on discord by johanezz"
      ]
    },
    {
      "cell_type": "code",
      "metadata": {
        "id": "GUlkCL0ZrVXY"
      },
      "source": [
        "\n",
        "# The input video file\n",
        "video_file = ''  #@param {type: \"string\"}\n",
        "\n",
        "# Target FPS (frames per second)\n",
        "frame_rate = 40  #@param {type: \"number\"}\n"
      ],
      "execution_count": null,
      "outputs": []
    },
    {
      "cell_type": "code",
      "metadata": {
        "id": "RTqx3hmRm2fi"
      },
      "source": [
        "%cd /content\n",
        "!git clone https://github.com/hzwer/arXiv2020-RIFE\n",
        "!gdown --id 1wsQIhHZ3Eg4_AfCXItFKqqyDMB4NS0Yd\n",
        "!7z e RIFE_trained_model_HDv2.zip\n",
        "!mkdir /content/arXiv2020-RIFE/train_log\n",
        "!mv *.pkl /content/arXiv2020-RIFE/train_log/\n",
        "%cd /content/arXiv2020-RIFE/\n",
        "!gdown --id 1i3xlKb7ax7Y70khcTcuePi6E7crO_dFc\n",
        "!pip3 install -r requirements.txt"
      ],
      "execution_count": null,
      "outputs": []
    },
    {
      "cell_type": "code",
      "metadata": {
        "id": "9YabeEZ-m3s2"
      },
      "source": [
        "fps=frame_rate\n",
        "video=video_file\n",
        "cd /content/arXiv2020-RIFE/\n",
        "!python3 inference_video.py --exp=2 --video={video} --fps={fps}"
      ],
      "execution_count": null,
      "outputs": []
    }
  ]
}