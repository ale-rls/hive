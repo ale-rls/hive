{
  "cells": [
    {
      "cell_type": "markdown",
      "metadata": {
        "id": "NDK60hNeoGDC"
      },
      "source": [
        "RIFE Video Interpolation\n",
        "\n",
        "Converts choppy videos with a low framerates to smooth ones. Code by [johanezz](https://twitter.com/_johannezz)"
      ]
    },
    {
      "cell_type": "code",
      "execution_count": null,
      "metadata": {
        "id": "GUlkCL0ZrVXY"
      },
      "outputs": [],
      "source": [
        "\n",
        "# The input video file\n",
        "video_file = ''  #@param {type: \"string\"}\n",
        "\n",
        "# Target FPS (frames per second)\n",
        "frame_rate = 40  #@param {type: \"number\"}\n"
      ]
    },
    {
      "cell_type": "code",
      "execution_count": null,
      "metadata": {
        "id": "RTqx3hmRm2fi"
      },
      "outputs": [],
      "source": [
        "%cd /content\n",
        "!git clone https://github.com/hzwer/arXiv2020-RIFE\n",
        "!gdown --id 1wsQIhHZ3Eg4_AfCXItFKqqyDMB4NS0Yd\n",
        "!7z e RIFE_trained_model_HDv2.zip\n",
        "!mkdir /content/arXiv2020-RIFE/train_log\n",
        "!mv *.pkl /content/arXiv2020-RIFE/train_log/\n",
        "%cd /content/arXiv2020-RIFE/\n",
        "!gdown --id 1i3xlKb7ax7Y70khcTcuePi6E7crO_dFc\n",
        "!pip3 install -r requirements.txt"
      ]
    },
    {
      "cell_type": "code",
      "execution_count": null,
      "metadata": {
        "id": "9YabeEZ-m3s2"
      },
      "outputs": [],
      "source": [
        "fps=frame_rate\n",
        "video=video_file\n",
        "output=f\"{output_path}video_{fps}fps.mp4\"\n",
        "\n",
        "!python3 inference_video.py --exp=2 --video={video} --fps={fps} --output={output}"
      ]
    }
  ],
  "metadata": {
    "accelerator": "GPU",
    "colab": {
      "authorship_tag": "ABX9TyPNnsfAiEDb58tfVLXIAe7V",
      "name": "RIFE Video Interpolation",
      "private_outputs": true,
      "provenance": []
    },
    "kernelspec": {
      "display_name": "Python 3",
      "name": "python3"
    },
    "language_info": {
      "name": "python"
    }
  },
  "nbformat": 4,
  "nbformat_minor": 0
}
