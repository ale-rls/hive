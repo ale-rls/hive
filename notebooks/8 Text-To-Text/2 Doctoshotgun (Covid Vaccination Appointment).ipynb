{
  "cells": [
    {
      "cell_type": "markdown",
      "metadata": {
        "id": "u1XPydEUv767"
      },
      "source": [
        "![virus](https://b3-onwater.at/wp-content/uploads/5859233-biology-cell-coronavirus-covid-life-microorganism-virus.png)\n",
        "\n",
        "This script lets you automatically book a vaccine slot on Doctolib in France and in Germany in the next seven days.\n",
        "\n",
        "Instructions:\n",
        "- Fill in data apart from *twofa_code*\n",
        "- Submit the form\n",
        "- Check your email for the authentication code\n",
        "- Click [ CLONE ] (top right next to model title)\n",
        "- Enter authentication code into *twofa_code*\n",
        "- Submit and watch the logs. You should receive an email confirmation of the booking"
      ]
    },
    {
      "cell_type": "code",
      "execution_count": null,
      "metadata": {
        "cellView": "form",
        "id": "HrBdjpF-sll2"
      },
      "outputs": [],
      "source": [
        "vaccine = 'pfizer'  #@param ['pfizer', 'moderna', 'astrazeneca', 'janssen']\n",
        "dose = 'first'  #@param ['first', 'second', 'third (booster)']\n",
        "start_date = '03/12/2021'  #@param {type: \"string\"}\n",
        "city = 'berlin' #@param {type: \"string\"}\n",
        "country = 'de'  #@param ['de', 'fr']\n",
        "doctolib_email = ''  #@param {type: \"string\"}\n",
        "doctolib_password = ''  #@param {type: \"string\"}\n",
        "twofa_code = '' #@param {type: \"string\"}"
      ]
    },
    {
      "cell_type": "code",
      "execution_count": null,
      "metadata": {
        "colab": {
          "base_uri": "https://localhost:8080/"
        },
        "id": "Hdo9MVsdbPGT",
        "outputId": "ed2c93aa-b172-4d3f-ce8c-68eab6c6b407"
      },
      "outputs": [],
      "source": [
        "%cd /content\n",
        "!git clone https://github.com/rbignon/doctoshotgun.git\n",
        "%cd /content/doctoshotgun\n",
        "!pip install -r requirements.txt\n",
        "\n",
        "dose_mapping = {\n",
        "    \"first\":\"\",\n",
        "    \"second\":\"--only-second\",\n",
        "    \"third (booster)\":\"--only-third\"\n",
        "}\n",
        "\n",
        "dose_flag = dose_mapping[dose]\n",
        "\n",
        "\n",
        "if len(twofa_code) > 2:\n",
        "    print(\"2FA code provided\")\n",
        "    code_flag = f\"--code {twofa_code}\"\n",
        "    !echo python3 ./doctoshotgun.py {country} {city} {doctolib_email} {doctolib_password} {dose_flag} {code_flag}\n",
        "    !python3 ./doctoshotgun.py {country} {city} {doctolib_email} {doctolib_password} {dose_flag} {code_flag} -p 0\n",
        "else:\n",
        "    print(\"No 2FA code provided. Requesting\")\n",
        "    !echo timeout 10s python3 ./doctoshotgun.py {country} {city} {doctolib_email} {doctolib_password} {dose_flag} \n",
        "    !timeout 10s python3 ./doctoshotgun.py {country} {city} {doctolib_email} {doctolib_password} {dose_flag} -p 0\n"
      ]
    }
  ],
  "metadata": {
    "colab": {
      "collapsed_sections": [],
      "name": "DOCTOSHOTGUN (Book Covid Vaccination Appointments)",
      "provenance": []
    },
    "kernelspec": {
      "display_name": "Python 3",
      "name": "python3"
    }
  },
  "nbformat": 4,
  "nbformat_minor": 0
}
