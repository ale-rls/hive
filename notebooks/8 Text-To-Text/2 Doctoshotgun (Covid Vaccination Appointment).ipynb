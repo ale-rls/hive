{
  "cells": [
    {
      "cell_type": "markdown",
      "metadata": {
        "id": "u1XPydEUv767"
      },
      "source": [
        "DOCTOSHOTGUN\n",
        "\n",
        "![virus](https://b3-onwater.at/wp-content/uploads/5859233-biology-cell-coronavirus-covid-life-microorganism-virus.png)\n",
        "\n",
        "This script lets you automatically book a vaccine slot on Doctolib in France and in Germany in the next seven days."
      ]
    },
    {
      "cell_type": "code",
      "execution_count": null,
      "metadata": {
        "cellView": "form",
        "id": "HrBdjpF-sll2"
      },
      "outputs": [],
      "source": [
        "vaccine = 'pfizer'  #@param ['pfizer', 'moderna', 'astrazeneca', 'janssen']\n",
        "dose = 'first'  #@param ['first', 'second', 'third (booster)']\n",
        "start_date = '03/12/2021'  #@param {type: \"string\"}\n",
        "twofa_code = '' #@param {type: \"string\"}\n",
        "city = 'berlin' #@param {type: \"string\"}\n",
        "country = 'de'  #@param ['de', 'fr']\n",
        "doctolib_email = ''  #@param {type: \"string\"}\n",
        "doctolib_password = ''  #@param {type: \"string\"}\n"
      ]
    },
    {
      "cell_type": "code",
      "execution_count": null,
      "metadata": {
        "colab": {
          "base_uri": "https://localhost:8080/"
        },
        "id": "Hdo9MVsdbPGT",
        "outputId": "ed2c93aa-b172-4d3f-ce8c-68eab6c6b407"
      },
      "outputs": [],
      "source": [
        "!git clone https://github.com/rbignon/doctoshotgun.git\n",
        "%cd doctoshotgun\n",
        "\n",
        "dose_mapping = {\n",
        "    \"first\":\"\",\n",
        "    \"second\":\"--only-second\",\n",
        "    \"third (booster)\":\"--only-third\"\n",
        "}\n",
        "\n",
        "dose_flag = dose_mapping[dose]\n",
        "\n",
        "!python3 ./doctoshotgun.py {country} {berlin} {doctolib_email} {doctolib_password} --only-third --code {twofa_code} {dose_flag}\n"
      ]
    }
  ],
  "metadata": {
    "colab": {
      "collapsed_sections": [],
      "name": "Making the most of your colab subscription",
      "provenance": []
    },
    "kernelspec": {
      "display_name": "Python 3",
      "name": "python3"
    }
  },
  "nbformat": 4,
  "nbformat_minor": 0
}
