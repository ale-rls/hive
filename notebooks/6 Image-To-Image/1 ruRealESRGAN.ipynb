{
  "cells": [
    {
      "cell_type": "markdown",
      "metadata": {
        "id": "Czlr7j7-t1Fw"
      },
      "source": [
        "Установка - Image/Video Super-Resolution\n",
        "\n",
        "Uses [Real-ESRGAN](https://github.com/xinntao/Real-ESRGAN) to perform neural super-resolution (creates HD images or videos from low-resolution).\n",
        "\n",
        "The modelds were fine-tuned by russian company [Sber](https://github.com/sberbank-ai/ru-dalle).\n",
        "\n",
        "![Example](https://pollinations.ai/ipfs/QmaSXnegTaivkmcFKjDT2oRewiswsAac3gJk8mEWDf3Cbn)"
      ]
    },
    {
      "cell_type": "code",
      "execution_count": 5,
      "metadata": {
        "cellView": "form",
        "id": "NkN4oxB5U1Ce"
      },
      "outputs": [],
      "source": [
        "\n",
        "# The image or video to scale up\n",
        "video_file = ''  #@param {type: \"string\"}\n",
        "\n",
        "# By what amount to upscale the image\n",
        "upscale_factor = \"x4\"  #@param ['x2', 'x4', 'x8']\n",
        "\n",
        "output_path = \"/content\""
      ]
    },
    {
      "cell_type": "code",
      "execution_count": null,
      "metadata": {},
      "outputs": [],
      "source": [
        "import mimetypes\n",
        "mimetypes.init()\n",
        "\n",
        "mimestart = mimetypes.guess_type(\"test.mp3\")[0]\n",
        "mimestart = mimestart.split('/')[0]\n",
        "is_video = mimestart == 'video'\n",
        "\n",
        "input_path = \"/tmp/sr_input\"\n",
        "!mkdir -p $input_path\n",
        "\n",
        "# Copy image or extract video frames and copy to input_path\n",
        "\n",
        "if is_video:\n",
        "    # Save video framerate\n",
        "    framerate = !ffprobe -v error -select_streams v:0 -show_entries stream=r_frame_rate -of default=noprint_wrappers=1:nokey=1 $video_file\n",
        "    print(\"framerate\", framerate)\n",
        "\n",
        "    # Extract frames\n",
        "    !ffmpeg -i $video_file $input_path/%05d.png\n",
        "else:\n",
        "    !cp $video_file $input_path/\n",
        "\n",
        "\n",
        "\n"
      ]
    },
    {
      "cell_type": "markdown",
      "metadata": {
        "id": "3haUp1FJskh5"
      },
      "source": [
        "Веса для x2, x4, x8 моделей можно скачать по этой ссылке:\n",
        "https://drive.google.com/drive/folders/16PlVKhTNkSyWFx52RPb2hXPIQveNGbxS"
      ]
    },
    {
      "cell_type": "code",
      "execution_count": 2,
      "metadata": {
        "colab": {
          "base_uri": "https://localhost:8080/"
        },
        "id": "zXm_whLxt-2X",
        "outputId": "1d197116-a5fb-44d0-abc5-ac1f8e7eb0e1"
      },
      "outputs": [
        {
          "name": "stdout",
          "output_type": "stream",
          "text": [
            "Cloning into 'Real-ESRGAN'...\n",
            "remote: Enumerating objects: 20, done.\u001b[K\n",
            "remote: Counting objects: 100% (20/20), done.\u001b[K\n",
            "remote: Compressing objects: 100% (13/13), done.\u001b[K\n",
            "remote: Total 20 (delta 2), reused 17 (delta 2), pack-reused 0\u001b[K\n",
            "Unpacking objects: 100% (20/20), done.\n",
            "/content/Real-ESRGAN\n",
            "Requirement already satisfied: numpy in /usr/local/lib/python3.7/dist-packages (from -r requirements.txt (line 1)) (1.19.5)\n",
            "Requirement already satisfied: opencv-python in /usr/local/lib/python3.7/dist-packages (from -r requirements.txt (line 2)) (4.1.2.30)\n",
            "Requirement already satisfied: Pillow in /usr/local/lib/python3.7/dist-packages (from -r requirements.txt (line 3)) (7.1.2)\n",
            "Requirement already satisfied: torch>=1.7 in /usr/local/lib/python3.7/dist-packages (from -r requirements.txt (line 4)) (1.9.0+cu111)\n",
            "Requirement already satisfied: torchvision>=0.8.0 in /usr/local/lib/python3.7/dist-packages (from -r requirements.txt (line 5)) (0.10.0+cu111)\n",
            "Requirement already satisfied: tqdm in /usr/local/lib/python3.7/dist-packages (from -r requirements.txt (line 6)) (4.62.3)\n",
            "Requirement already satisfied: typing-extensions in /usr/local/lib/python3.7/dist-packages (from torch>=1.7->-r requirements.txt (line 4)) (3.7.4.3)\n",
            "--2021-11-04 05:13:26--  https://pollinations.ai/ipfs/QmbgtAqZyBTUhyUFh6ZZD5HbgWJBSNnnPrzj72k4ikq7PV/SBER_RealESRGAN_x4.pth\n",
            "Resolving pollinations.ai (pollinations.ai)... 50.18.120.10, 138.197.207.178, 2604:a880:2:d0::212a:f001, ...\n",
            "Connecting to pollinations.ai (pollinations.ai)|50.18.120.10|:443... connected.\n",
            "HTTP request sent, awaiting response... 200 OK\n",
            "Length: 67040989 (64M) [application/zip]\n",
            "Saving to: ‘SBER_RealESRGAN_x4.pth’\n",
            "\n",
            "SBER_RealESRGAN_x4. 100%[===================>]  63.93M  20.8MB/s    in 3.5s    \n",
            "\n",
            "2021-11-04 05:13:30 (18.2 MB/s) - ‘SBER_RealESRGAN_x4.pth’ saved [67040989/67040989]\n",
            "\n"
          ]
        }
      ],
      "source": [
        "\n",
        "model_file = f\"SBER_RealESRGAN_{upscale_factor}.pth\"\n",
        "model_url = f\"https://pollinations.ai/ipfs/QmbgtAqZyBTUhyUFh6ZZD5HbgWJBSNnnPrzj72k4ikq7PV/{model_file}\"\n",
        "\n",
        "!git clone https://github.com/sberbank-ai/Real-ESRGAN\n",
        "%cd /content/Real-ESRGAN\n",
        "!pip install -r requirements.txt\n",
        "\n",
        "!wget -N {model_url}"
      ]
    },
    {
      "cell_type": "markdown",
      "metadata": {
        "id": "zmqafWsYu5GT"
      },
      "source": [
        "# Загрузка изображений/архивов\n"
      ]
    },
    {
      "cell_type": "markdown",
      "metadata": {
        "id": "3PRdwMngvxKn"
      },
      "source": [
        "# Запуск модели"
      ]
    },
    {
      "cell_type": "code",
      "execution_count": 6,
      "metadata": {
        "colab": {
          "base_uri": "https://localhost:8080/"
        },
        "id": "aCrW4PDUv8mb",
        "outputId": "5c515efa-c22f-4781-a3a4-407b6f9b0651"
      },
      "outputs": [
        {
          "name": "stdout",
          "output_type": "stream",
          "text": [
            "device: cuda\n"
          ]
        }
      ],
      "source": [
        "# Создание модели\n",
        "from realesrgan import RealESRGAN\n",
        "from PIL import Image\n",
        "import numpy as np\n",
        "import torch\n",
        "\n",
        "device = torch.device('cuda' if torch.cuda.is_available() else 'cpu')\n",
        "print('device:', device)\n",
        "\n",
        "scale_map = {\n",
        "    \"x2\":2, \"x4\":4, \"x8\":8\n",
        "}\n",
        "\n",
        "model = RealESRGAN(device, scale=scale_map[upscale_factor])\n",
        "model.load_weights(model_file)"
      ]
    },
    {
      "cell_type": "markdown",
      "metadata": {
        "id": "8geveyawM5m2"
      },
      "source": [
        "Улучшение одного изображения:"
      ]
    },
    {
      "cell_type": "code",
      "execution_count": 7,
      "metadata": {
        "id": "F_9jjIacMzE3"
      },
      "outputs": [],
      "source": [
        "\n",
        "image = Image.open(video_file).convert('RGB')\n",
        "sr_image = model.predict(np.array(image))\n",
        "\n",
        "sr_image.save(f\"{output_path}/upscaled.png\")"
      ]
    }
  ],
  "metadata": {
    "accelerator": "GPU",
    "colab": {
      "collapsed_sections": [],
      "name": "Real-ESRGAN-Sber-inference.ipynb",
      "provenance": []
    },
    "kernelspec": {
      "display_name": "Python 3",
      "name": "python3"
    },
    "language_info": {
      "name": "python"
    }
  },
  "nbformat": 4,
  "nbformat_minor": 0
}
