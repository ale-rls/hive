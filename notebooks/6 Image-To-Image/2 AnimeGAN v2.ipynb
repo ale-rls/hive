{
  "cells": [
    {
      "cell_type": "markdown",
      "metadata": {},
      "source": [
        "! **WORK IN PROGRESS** Could still fail without reason !\n",
        "\n",
        "This is the Open source of the paper <AnimeGAN: a novel lightweight GAN for photo animation>, which uses the GAN framwork to transform real-world photos into anime images."
      ]
    },
    {
      "cell_type": "code",
      "execution_count": null,
      "metadata": {},
      "outputs": [],
      "source": [
        "# Input image that will be converted to anime style\n",
        "file_image = '' #@param {type: \"string\"}\n",
        "\n",
        "# Anime Style\n",
        "image_model = \"Hayao\"  #@param [\"Hayao\", \"Shinkai\", \"Paprika\"]\n",
        "\n",
        "output_path = \"/content/output\"\n"
      ]
    },
    {
      "cell_type": "markdown",
      "metadata": {
        "id": "-QypmISklrxI"
      },
      "source": [
        "### STAGE ONE: Prepare dependencies."
      ]
    },
    {
      "cell_type": "code",
      "execution_count": null,
      "metadata": {
        "id": "IhAPmDd2_iUc"
      },
      "outputs": [],
      "source": [
        "%tensorflow_version 1.x\n",
        "!ls -l /usr/local/cuda\n",
        "!git clone https://github.com/CyFeng16/MVIMP.git\n",
        "\n",
        "import os\n",
        "os.chdir('/content/MVIMP')\n",
        "!python3 preparation.py"
      ]
    },
    {
      "cell_type": "markdown",
      "metadata": {
        "id": "I3SD8FTCl__g"
      },
      "source": [
        "### STAGE TWO: **Upload** your pictures in `MVIMP/Data/Input`.<br>Processed outputs will be in `MVIMP/Data/Output`."
      ]
    },
    {
      "cell_type": "markdown",
      "metadata": {
        "id": "QFg1fivimM_0"
      },
      "source": [
        "### STAGE THREE: One-line commmand to embrace AnimeGANv2(change your photos' style to anime-like).\n",
        "\n",
        "| params \t| abbr. \t| Default \t| Description \t|\n",
        "|-\t|-\t|-\t|-\t|\n",
        "| --style \t| -s \t| Hayao \t| The anime style you want to get. \t|\n",
        "\n",
        "| Style name \t| Anime style \t|\n",
        "|-\t|-\t|\n",
        "| Hayao \t| Miyazaki Hayao \t|\n",
        "| Shinkai \t| Makoto Shinkai \t|\n",
        "| Paprika \t| Kon Satoshi \t|"
      ]
    },
    {
      "cell_type": "code",
      "execution_count": null,
      "metadata": {
        "id": "M428rc3_aIDn"
      },
      "outputs": [],
      "source": [
        "!mkdir -p /content/MVIMP/Data/Input\n",
        "\n",
        "!apt-get install imagemagick\n",
        "print(\"running convert\")\n",
        "!convert {file_image} /content/MVIMP/Data/Input/input.jpg\n",
        "\n",
        "!python3 inference_animeganv2.py -s {style}\n",
        "!cp -v /content/MVIMP/Data/Output/* {output_path}"
      ]
    }
  ],
  "metadata": {
    "accelerator": "GPU",
    "colab": {
      "collapsed_sections": [],
      "name": "MVIMP-AnimeGANv2-Demo.ipynb",
      "private_outputs": true,
      "provenance": []
    },
    "kernelspec": {
      "display_name": "Python 3",
      "name": "python3"
    }
  },
  "nbformat": 4,
  "nbformat_minor": 0
}
