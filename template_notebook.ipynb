{
  "nbformat": 4,
  "nbformat_minor": 0,
  "metadata": {
    "accelerator": "GPU",
    "colab": {
      "name": "template_notebook",
      "provenance": [],
      "collapsed_sections": []
    },
    "kernelspec": {
      "display_name": "Python 3",
      "language": "python",
      "name": "python3"
    },
    "language_info": {
      "name": "python"
    }
  },
  "cells": [
    {
      "cell_type": "markdown",
      "metadata": {
        "id": "CppIQlPhhwhs"
      },
      "source": [
        "Put your description here. This will be shown as Details/Preview on pollinations.ai.\n",
        "Don't forget:\n",
        "- mentioning the contributors and artists\n",
        "- mentioning the License\n",
        "- don't start with a title\n",
        "- you can add an image\n",
        "\n",
        "Besides, the following things should be kept in mind:\n",
        "- output path is saved in a variable called `output_path`\n",
        "- each cell should start with a title like this:\n",
        "```\n",
        "#@title Title that will be displayed to the user while this cell executed\n",
        "```\n",
        "- the environment setup should happen in a dedicated cell, so that we can easily extract this into a docker image in the future\n",
        "- the filename will be displayed in the frontend, so choose a name correctly\n",
        "\n",
        "\n",
        "The next cell should be Python and contain all the controls. This is done in the style of colab forms:"
      ]
    },
    {
      "cell_type": "code",
      "metadata": {
        "id": "pZmCmyKM9fmv",
        "tags": [
          "parameters"
        ],
        "cellView": "form"
      },
      "source": [
        "# Description for the next input field comes here\n",
        "text_input = 'Since this is the first input, this will be used for the social media post'  #@param {type: \"string\"}\n",
        "\n",
        "# Booleans are supported as well\n",
        "super_resolution = False #@param {type: \"boolean\"}\n",
        "\n",
        "# Drop downs are supported as well\n",
        "image_model = \"imagenet\"  #@param ['imagenet', 'ruDALLE']\n",
        "\n",
        "# File inputs are text input fields that end with _file.\n",
        "audio_file = \"\" #@param {type: \"string\"}\n",
        "\n",
        "# And numbers are also supported\n",
        "some_number = 0. #@param {type: \"number\"}\n",
        "\n",
        "# Leave the following line as is and save output to {output_path}/whatever.png\n",
        "output_path = \"/content/output\""
      ],
      "execution_count": null,
      "outputs": []
    },
    {
      "cell_type": "code",
      "metadata": {
        "id": "VIf9Z1CTsC7R",
        "cellView": "form"
      },
      "source": [
        "#@title Environment setup - install packages, clone repos etc\n",
        "pass"
      ],
      "execution_count": null,
      "outputs": []
    },
    {
      "cell_type": "code",
      "metadata": {
        "id": "DT3hKb5gJUPq"
      },
      "source": [
        "#@ Snippet for video rendering\n",
        "out_file=output_path+\"/video.mp4\"\n",
        "\n",
        "!mkdir -p /tmp/ffmpeg\n",
        "!cp $output_path/*.jpg /tmp/ffmpeg\n",
        "last_frame=!ls -t /tmp/ffmpeg/*.jpg | head -1\n",
        "last_frame = last_frame[0]\n",
        "\n",
        "# Copy last frame to start and duplicate at end so it sticks around longer\n",
        "end_still_seconds = 4\n",
        "!cp -v $last_frame /tmp/ffmpeg/0000.jpg\n",
        "for i in range(end_still_seconds * 10):\n",
        "  pad_file = f\"/tmp/ffmpeg/zzzz_pad_{i:05}.jpg\"\n",
        "  !cp -v $last_frame $pad_file\n",
        "\n",
        "!ffmpeg  -r 10 -i /tmp/ffmpeg/%*.jpg -y -c:v libx264 /tmp/vid_no_audio.mp4\n",
        "!ffmpeg -i /tmp/vid_no_audio.mp4 -f lavfi -i anullsrc -c:v copy -c:a aac -shortest -y \"$out_file\"\n",
        "\n",
        "print(\"Written\", out_file)\n",
        "!sleep 2\n",
        "!rm -r /tmp/ffmpeg"
      ],
      "execution_count": null,
      "outputs": []
    }
  ]
}