{
  "nbformat": 4,
  "nbformat_minor": 0,
  "metadata": {
    "colab": {
      "name": "CLIP-Guided Diffusion + ESRGAN",
      "private_outputs": true,
      "provenance": [],
      "collapsed_sections": []
    },
    "kernelspec": {
      "name": "python3",
      "display_name": "Python 3"
    },
    "language_info": {
      "name": "python"
    },
    "accelerator": "GPU"
  },
  "cells": [
    {
      "cell_type": "markdown",
      "metadata": {
        "id": "1YwMUyt9LHG1"
      },
      "source": [
        "# CLIP Guided Diffusion (Text-to-Image)\n",
        "\n",
        "By Katherine Crowson (https://github.com/crowsonkb, https://twitter.com/RiversHaveWings). It uses OpenAI's 256x256 unconditional ImageNet diffusion model (https://github.com/openai/guided-diffusion) together with CLIP (https://github.com/openai/CLIP) to connect text prompts with images. \n",
        "\n",
        "Creates images of 1024x1024px with a 4 x Superresolution step added by Thomash. Could be a little slower if turned on."
      ]
    },
    {
      "cell_type": "code",
      "metadata": {
        "id": "myAQqEodz7OR"
      },
      "source": [
        "text_input = 'pollination by Ernst Haeckel' #@param {type: \"string\"}\n",
        "super_resolution = True   #@param {type: \"boolean\"}\n",
        "output_path = \"/content/output\"\n"
      ],
      "execution_count": null,
      "outputs": []
    },
    {
      "cell_type": "code",
      "metadata": {
        "id": "fKuRQfC3LPYt"
      },
      "source": [
        "#@title Upscale images/video frames\n",
        "\n",
        "import os.path as osp\n",
        "import glob\n",
        "import cv2\n",
        "import numpy as np\n",
        "import torch\n",
        "\n",
        "import requests\n",
        "import imageio\n",
        "import requests\n",
        "import warnings\n",
        "import gdown\n",
        "\n",
        "\n",
        "loaded_upscale_model = False\n",
        "upscale_device = None\n",
        "upscale_model = None\n",
        "def upscale(path):\n",
        "  global loaded_upscale_model, upscale_device, upscale_model\n",
        "  \n",
        "  if not loaded_upscale_model:\n",
        "\n",
        "    print(\"Loading superresolution model\")\n",
        "\n",
        "    !git clone https://github.com/xinntao/ESRGAN\n",
        "    %cd ESRGAN\n",
        "    import RRDBNet_arch as arch\n",
        "    print(\"Downloading Super-Resolution model\")\n",
        "    output1 = 'RRDB_ESRGAN_x4.pth'\n",
        "    print ('Downloading RRDB_ESRGAN_x4.pth')\n",
        "    gdown.download('https://drive.google.com/uc?id=1TPrz5QKd8DHHt1k8SRtm6tMiPjz_Qene', output1,quiet=False) \n",
        "\n",
        "\n",
        "    warnings.filterwarnings(\"ignore\")\n",
        "\n",
        "    Choose_device = \"cuda\" \n",
        "    model_path = 'RRDB_ESRGAN_x4.pth'\n",
        "\n",
        "    upscale_device = torch.device(Choose_device) \n",
        "\n",
        "\n",
        "    upscale_model = arch.RRDBNet(3, 3, 64, 23, gc=32)\n",
        "    upscale_model.load_state_dict(torch.load(model_path), strict=True)\n",
        "    upscale_model.eval()\n",
        "    upscale_model = upscale_model.to(upscale_device)\n",
        "\n",
        "    print('Model path {:s}. \\nTesting...'.format(model_path))\n",
        "    \n",
        "    %cd -\n",
        "    loaded_upscale_model = True\n",
        "  img = cv2.imread(path, cv2.IMREAD_COLOR)\n",
        "  img = img * 1.0 / 255\n",
        "  img = torch.from_numpy(np.transpose(img[:, :, [2, 1, 0]], (2, 0, 1))).float()\n",
        "  img_LR = img.unsqueeze(0)\n",
        "  img_LR = img_LR.to(upscale_device)\n",
        "\n",
        "  print(\"4x upscaling\", path)\n",
        "  with torch.no_grad():\n",
        "      output = upscale_model(img_LR).data.squeeze().float().cpu().clamp_(0, 1).numpy()\n",
        "  \n",
        "  output = np.transpose(output[[2, 1, 0], :, :], (1, 2, 0))\n",
        "  output = (output * 255.0).round()\n",
        "  cv2.imwrite(path, output, [int(cv2.IMWRITE_JPEG_QUALITY), 70])\n",
        "  print(\"Done upscaling\")\n"
      ],
      "execution_count": null,
      "outputs": []
    },
    {
      "cell_type": "code",
      "metadata": {
        "cellView": "form",
        "id": "XIqUfrmvLIhg"
      },
      "source": [
        "# @title Licensed under the MIT License\n",
        "\n",
        "# Copyright (c) 2021 Katherine Crowson\n",
        "\n",
        "# Permission is hereby granted, free of charge, to any person obtaining a copy\n",
        "# of this software and associated documentation files (the \"Software\"), to deal\n",
        "# in the Software without restriction, including without limitation the rights\n",
        "# to use, copy, modify, merge, publish, distribute, sublicense, and/or sell\n",
        "# copies of the Software, and to permit persons to whom the Software is\n",
        "# furnished to do so, subject to the following conditions:\n",
        "\n",
        "# The above copyright notice and this permission notice shall be included in\n",
        "# all copies or substantial portions of the Software.\n",
        "\n",
        "# THE SOFTWARE IS PROVIDED \"AS IS\", WITHOUT WARRANTY OF ANY KIND, EXPRESS OR\n",
        "# IMPLIED, INCLUDING BUT NOT LIMITED TO THE WARRANTIES OF MERCHANTABILITY,\n",
        "# FITNESS FOR A PARTICULAR PURPOSE AND NONINFRINGEMENT. IN NO EVENT SHALL THE\n",
        "# AUTHORS OR COPYRIGHT HOLDERS BE LIABLE FOR ANY CLAIM, DAMAGES OR OTHER\n",
        "# LIABILITY, WHETHER IN AN ACTION OF CONTRACT, TORT OR OTHERWISE, ARISING FROM,\n",
        "# OUT OF OR IN CONNECTION WITH THE SOFTWARE OR THE USE OR OTHER DEALINGS IN\n",
        "# THE SOFTWARE."
      ],
      "execution_count": null,
      "outputs": []
    },
    {
      "cell_type": "code",
      "metadata": {
        "id": "qZ3rNuAWAewx"
      },
      "source": [
        "# Check the GPU status\n",
        "%cd /content\n",
        "!mkdir -p $output_path\n",
        "!nvidia-smi"
      ],
      "execution_count": null,
      "outputs": []
    },
    {
      "cell_type": "code",
      "metadata": {
        "id": "-_UVMZCIAq_r"
      },
      "source": [
        "# Install dependencies\n",
        "\n",
        "!git clone https://github.com/openai/CLIP\n",
        "!git clone https://github.com/openai/guided-diffusion\n",
        "!pip install -e ./CLIP\n",
        "!pip install -e ./guided-diffusion"
      ],
      "execution_count": null,
      "outputs": []
    },
    {
      "cell_type": "code",
      "metadata": {
        "id": "7zAqFEykBHDL"
      },
      "source": [
        "# Download the diffusion model\n",
        "\n",
        "!wget -N 'https://openaipublic.blob.core.windows.net/diffusion/jul-2021/256x256_diffusion_uncond.pt'"
      ],
      "execution_count": null,
      "outputs": []
    },
    {
      "cell_type": "code",
      "metadata": {
        "id": "JmbrcrhpBPC6"
      },
      "source": [
        "# Imports\n",
        "\n",
        "import math\n",
        "import sys\n",
        "\n",
        "from IPython import display\n",
        "from PIL import Image\n",
        "import torch\n",
        "from torch import nn\n",
        "from torch.nn import functional as F\n",
        "from torchvision import transforms\n",
        "from torchvision.transforms import functional as TF\n",
        "from tqdm.notebook import tqdm\n",
        "\n",
        "sys.path.append('./CLIP')\n",
        "sys.path.append('./guided-diffusion')\n",
        "\n",
        "import clip\n",
        "from guided_diffusion.script_util import create_model_and_diffusion, model_and_diffusion_defaults"
      ],
      "execution_count": null,
      "outputs": []
    },
    {
      "cell_type": "code",
      "metadata": {
        "id": "YHOj78Yvx8jP"
      },
      "source": [
        "# Define necessary functions\n",
        "\n",
        "class MakeCutouts(nn.Module):\n",
        "    def __init__(self, cut_size, cutn, cut_pow=1.):\n",
        "        super().__init__()\n",
        "        self.cut_size = cut_size\n",
        "        self.cutn = cutn\n",
        "        self.cut_pow = cut_pow\n",
        "\n",
        "    def forward(self, input):\n",
        "        sideY, sideX = input.shape[2:4]\n",
        "        max_size = min(sideX, sideY)\n",
        "        min_size = min(sideX, sideY, self.cut_size)\n",
        "        cutouts = []\n",
        "        for _ in range(self.cutn):\n",
        "            size = int(torch.rand([])**self.cut_pow * (max_size - min_size) + min_size)\n",
        "            offsetx = torch.randint(0, sideX - size + 1, ())\n",
        "            offsety = torch.randint(0, sideY - size + 1, ())\n",
        "            cutout = input[:, :, offsety:offsety + size, offsetx:offsetx + size]\n",
        "            cutout = F.interpolate(cutout, (self.cut_size, self.cut_size),\n",
        "                                   mode='bilinear', align_corners=False)\n",
        "            cutouts.append(cutout)\n",
        "        return torch.cat(cutouts)\n",
        "\n",
        "\n",
        "def spherical_dist_loss(x, y):\n",
        "    x = F.normalize(x, dim=-1)\n",
        "    y = F.normalize(y, dim=-1)\n",
        "    return (x - y).norm(dim=-1).div(2).arcsin().pow(2).mul(2)\n",
        "\n",
        "\n",
        "def tv_loss(input):\n",
        "    \"\"\"L2 total variation loss, as in Mahendran et al.\"\"\"\n",
        "    input = F.pad(input, (0, 1, 0, 1), 'replicate')\n",
        "    x_diff = input[..., :-1, 1:] - input[..., :-1, :-1]\n",
        "    y_diff = input[..., 1:, :-1] - input[..., :-1, :-1]\n",
        "    return (x_diff**2 + y_diff**2).mean([1, 2, 3])\n"
      ],
      "execution_count": null,
      "outputs": []
    },
    {
      "cell_type": "code",
      "metadata": {
        "id": "Fpbody2NCR7w"
      },
      "source": [
        "# Model settings\n",
        "\n",
        "model_config = model_and_diffusion_defaults()\n",
        "model_config.update({\n",
        "    'attention_resolutions': '32, 16, 8',\n",
        "    'class_cond': False,\n",
        "    'diffusion_steps': 1000,\n",
        "    'rescale_timesteps': True,\n",
        "    'timestep_respacing': '1000',\n",
        "    'image_size': 256,\n",
        "    'learn_sigma': True,\n",
        "    'noise_schedule': 'linear',\n",
        "    'num_channels': 256,\n",
        "    'num_head_channels': 64,\n",
        "    'num_res_blocks': 2,\n",
        "    'resblock_updown': True,\n",
        "    'use_fp16': True,\n",
        "    'use_scale_shift_norm': True,\n",
        "})"
      ],
      "execution_count": null,
      "outputs": []
    },
    {
      "cell_type": "code",
      "metadata": {
        "id": "VnQjGugaDZPJ"
      },
      "source": [
        "# Load models\n",
        "\n",
        "device = torch.device('cuda:0' if torch.cuda.is_available() else 'cpu')\n",
        "print('Using device:', device)\n",
        "\n",
        "model, diffusion = create_model_and_diffusion(**model_config)\n",
        "model.load_state_dict(torch.load('256x256_diffusion_uncond.pt', map_location='cpu'))\n",
        "model.requires_grad_(False).eval().to(device)\n",
        "for name, param in model.named_parameters():\n",
        "    if 'qkv' in name or 'norm' in name or 'proj' in name:\n",
        "        param.requires_grad_()\n",
        "if model_config['use_fp16']:\n",
        "    model.convert_to_fp16()\n",
        "\n",
        "clip_model = clip.load('ViT-B/16', jit=False)[0].eval().requires_grad_(False).to(device)\n",
        "clip_size = clip_model.visual.input_resolution\n",
        "normalize = transforms.Normalize(mean=[0.48145466, 0.4578275, 0.40821073],\n",
        "                                 std=[0.26862954, 0.26130258, 0.27577711])\n"
      ],
      "execution_count": null,
      "outputs": []
    },
    {
      "cell_type": "markdown",
      "metadata": {
        "id": "9zY-8I90LkC6"
      },
      "source": [
        "## Settings for this run:"
      ]
    },
    {
      "cell_type": "code",
      "metadata": {
        "id": "U0PwzFZbLfcy"
      },
      "source": [
        "prompt = text_input\n",
        "batch_size = 1\n",
        "clip_guidance_scale = 1000\n",
        "tv_scale = 100\n",
        "cutn = 16\n",
        "seed = 0"
      ],
      "execution_count": null,
      "outputs": []
    },
    {
      "cell_type": "markdown",
      "metadata": {
        "id": "Nf9hTc8YLoLx"
      },
      "source": [
        "### Actually do the run..."
      ]
    },
    {
      "cell_type": "code",
      "metadata": {
        "id": "X5gODNAMEUCR"
      },
      "source": [
        "if seed is not None:\n",
        "    torch.manual_seed(seed)\n",
        "\n",
        "text_embed = clip_model.encode_text(clip.tokenize(prompt).to(device)).float()\n",
        "\n",
        "make_cutouts = MakeCutouts(clip_size, cutn)\n",
        "\n",
        "cur_t = diffusion.num_timesteps - 1\n",
        "\n",
        "def cond_fn(x, t, y=None):\n",
        "    with torch.enable_grad():\n",
        "        x = x.detach().requires_grad_()\n",
        "        n = x.shape[0]\n",
        "        my_t = torch.ones([n], device=device, dtype=torch.long) * cur_t\n",
        "        out = diffusion.p_mean_variance(model, x, my_t, clip_denoised=False, model_kwargs={'y': y})\n",
        "        fac = diffusion.sqrt_one_minus_alphas_cumprod[cur_t]\n",
        "        x_in = out['pred_xstart'] * fac + x * (1 - fac)\n",
        "        clip_in = normalize(make_cutouts(x_in.add(1).div(2)))\n",
        "        image_embeds = clip_model.encode_image(clip_in).float().view([cutn, n, -1])\n",
        "        dists = spherical_dist_loss(image_embeds, text_embed.unsqueeze(0))\n",
        "        losses = dists.mean(0)\n",
        "        tv_losses = tv_loss(x_in)\n",
        "        loss = losses.sum() * clip_guidance_scale + tv_losses.sum() * tv_scale\n",
        "        return -torch.autograd.grad(loss, x)[0]\n",
        "\n",
        "if model_config['timestep_respacing'].startswith('ddim'):\n",
        "    sample_fn = diffusion.ddim_sample_loop_progressive\n",
        "else:\n",
        "    sample_fn = diffusion.p_sample_loop_progressive\n",
        "\n",
        "samples = sample_fn(\n",
        "    model,\n",
        "    (batch_size, 3, model_config['image_size'], model_config['image_size']),\n",
        "    clip_denoised=False,\n",
        "    model_kwargs={},\n",
        "    cond_fn=cond_fn,\n",
        "    progress=False,\n",
        ")\n",
        "\n",
        "for i, sample in enumerate(samples):\n",
        "    cur_t -= 1\n",
        "    if i % 4 == 0 or cur_t == -1:\n",
        "        print()\n",
        "        for j, image in enumerate(sample['pred_xstart']):\n",
        "            filename = f'{output_path}/progress_{j:01}_{i:05}.jpg'\n",
        "            TF.to_pil_image(image.add(1).div(2).clamp(0, 1)).save(filename)\n",
        "            tqdm.write(f'Step {i}, output {j}:')\n",
        "            print(f\"step_{i}\", file=sys.stderr)\n",
        "            if super_resolution:\n",
        "              upscale(filename)\n",
        "            #display.display(display.Image(filename))\n"
      ],
      "execution_count": null,
      "outputs": []
    },
    {
      "cell_type": "code",
      "metadata": {
        "id": "st9TQg3l_2aC",
        "cellView": "form"
      },
      "source": [
        "#@title Render Video\n",
        "\n",
        "out_file=output_path+\"/video.mp4\"\n",
        "#!rm /content/*.mp4\n",
        "last_frame=!ls -t $output_path/*.jpg | head -1\n",
        "last_frame = last_frame[0]\n",
        "!cp -v $last_frame $output_path/0000.jpg\n",
        "\n",
        "!ffmpeg  -r 10 -i $output_path/%*.jpg -y -c:v libx264 -profile:v high -pix_fmt yuv420p -level:v 4.0 /tmp/vid_no_audio.mp4\n",
        "!ffmpeg -i /tmp/vid_no_audio.mp4 -f lavfi -i anullsrc -c:v copy -c:a aac -shortest -y \"$out_file\"\n",
        "#ffmpeg -i input.mp4 -f lavfi -c:v copy -c:a aac -shortest output.mp4\n",
        "#!cp -v /tmp/video.mp4 \"$out_file\"\n",
        "#!rm /content/taming-transformers/*.png\n",
        "print(\"Written\", out_file)\n",
        "!sleep 2\n"
      ],
      "execution_count": null,
      "outputs": []
    }
  ]
}